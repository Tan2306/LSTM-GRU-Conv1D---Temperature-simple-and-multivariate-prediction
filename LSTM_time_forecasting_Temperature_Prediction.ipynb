{
  "nbformat": 4,
  "nbformat_minor": 0,
  "metadata": {
    "colab": {
      "name": "LSTM time forecasting_Temperature Prediction.ipynb",
      "provenance": [],
      "collapsed_sections": [],
      "authorship_tag": "ABX9TyNHhFTfdi/sBMdVtZ5jN22t",
      "include_colab_link": true
    },
    "kernelspec": {
      "name": "python3",
      "display_name": "Python 3"
    },
    "language_info": {
      "name": "python"
    }
  },
  "cells": [
    {
      "cell_type": "markdown",
      "metadata": {
        "id": "view-in-github",
        "colab_type": "text"
      },
      "source": [
        "<a href=\"https://colab.research.google.com/github/Tan2306/LSTM-GRU-Conv1D---Temperature-simple-and-multivariate-prediction/blob/main/LSTM_time_forecasting_Temperature_Prediction.ipynb\" target=\"_parent\"><img src=\"https://colab.research.google.com/assets/colab-badge.svg\" alt=\"Open In Colab\"/></a>"
      ]
    },
    {
      "cell_type": "markdown",
      "source": [
        "Reference - https://www.youtube.com/watch?v=c0k-YLQGKjY&t=1165s"
      ],
      "metadata": {
        "id": "GlV9-fwol2zU"
      }
    },
    {
      "cell_type": "markdown",
      "source": [
        "# Importing required libraries and modules"
      ],
      "metadata": {
        "id": "LHyWRBNr6u79"
      }
    },
    {
      "cell_type": "code",
      "execution_count": null,
      "metadata": {
        "id": "fBGb32FA6d_G"
      },
      "outputs": [],
      "source": [
        "import tensorflow as tf\n",
        "import os\n",
        "import pandas as pd\n",
        "import numpy as np\n",
        "import matplotlib.pyplot as plt\n",
        "from tensorflow.keras.models import Sequential\n",
        "from tensorflow.keras.layers import *\n",
        "from tensorflow.keras.callbacks import ModelCheckpoint # This is to save the model that perform best on the validation set\n",
        "from tensorflow.keras.losses import MeanSquaredError # The loss function\n",
        "from tensorflow.keras.metrics import RootMeanSquaredError\n",
        "from tensorflow.keras.optimizers import Adam\n",
        "from tensorflow.keras.models import load_model\n",
        "from sklearn.metrics import mean_squared_error as mse\n",
        "import absl.logging\n",
        "absl.logging.set_verbosity(absl.logging.ERROR) # to kill the warnings that pop up while training models"
      ]
    },
    {
      "cell_type": "markdown",
      "source": [
        "\n",
        "# Getting the data from keras datasets"
      ],
      "metadata": {
        "id": "gbGqIUzc7PPY"
      }
    },
    {
      "cell_type": "code",
      "source": [
        "zip_path = tf.keras.utils.get_file(\n",
        "    origin='https://storage.googleapis.com/tensorflow/tf-keras-datasets/jena_climate_2009_2016.csv.zip',\n",
        "    fname='jena_climate_2009_2016.csv.zip',\n",
        "    extract=True)\n",
        "csv_path, _ = os.path.splitext(zip_path)\n",
        "\n",
        "df = pd.read_csv(csv_path)\n",
        "df.head()"
      ],
      "metadata": {
        "colab": {
          "base_uri": "https://localhost:8080/",
          "height": 406
        },
        "id": "77pjUwjc67Dy",
        "outputId": "ae5953c6-cd27-46e6-b5fe-2d0ce27a825a"
      },
      "execution_count": null,
      "outputs": [
        {
          "output_type": "stream",
          "name": "stdout",
          "text": [
            "Downloading data from https://storage.googleapis.com/tensorflow/tf-keras-datasets/jena_climate_2009_2016.csv.zip\n",
            "13574144/13568290 [==============================] - 0s 0us/step\n",
            "13582336/13568290 [==============================] - 0s 0us/step\n"
          ]
        },
        {
          "output_type": "execute_result",
          "data": {
            "text/plain": [
              "             Date Time  p (mbar)  T (degC)  Tpot (K)  Tdew (degC)  rh (%)  \\\n",
              "0  01.01.2009 00:10:00    996.52     -8.02    265.40        -8.90    93.3   \n",
              "1  01.01.2009 00:20:00    996.57     -8.41    265.01        -9.28    93.4   \n",
              "2  01.01.2009 00:30:00    996.53     -8.51    264.91        -9.31    93.9   \n",
              "3  01.01.2009 00:40:00    996.51     -8.31    265.12        -9.07    94.2   \n",
              "4  01.01.2009 00:50:00    996.51     -8.27    265.15        -9.04    94.1   \n",
              "\n",
              "   VPmax (mbar)  VPact (mbar)  VPdef (mbar)  sh (g/kg)  H2OC (mmol/mol)  \\\n",
              "0          3.33          3.11          0.22       1.94             3.12   \n",
              "1          3.23          3.02          0.21       1.89             3.03   \n",
              "2          3.21          3.01          0.20       1.88             3.02   \n",
              "3          3.26          3.07          0.19       1.92             3.08   \n",
              "4          3.27          3.08          0.19       1.92             3.09   \n",
              "\n",
              "   rho (g/m**3)  wv (m/s)  max. wv (m/s)  wd (deg)  \n",
              "0       1307.75      1.03           1.75     152.3  \n",
              "1       1309.80      0.72           1.50     136.1  \n",
              "2       1310.24      0.19           0.63     171.6  \n",
              "3       1309.19      0.34           0.50     198.0  \n",
              "4       1309.00      0.32           0.63     214.3  "
            ],
            "text/html": [
              "\n",
              "  <div id=\"df-9f10f73b-3bc3-4483-a315-b39d36710ddd\">\n",
              "    <div class=\"colab-df-container\">\n",
              "      <div>\n",
              "<style scoped>\n",
              "    .dataframe tbody tr th:only-of-type {\n",
              "        vertical-align: middle;\n",
              "    }\n",
              "\n",
              "    .dataframe tbody tr th {\n",
              "        vertical-align: top;\n",
              "    }\n",
              "\n",
              "    .dataframe thead th {\n",
              "        text-align: right;\n",
              "    }\n",
              "</style>\n",
              "<table border=\"1\" class=\"dataframe\">\n",
              "  <thead>\n",
              "    <tr style=\"text-align: right;\">\n",
              "      <th></th>\n",
              "      <th>Date Time</th>\n",
              "      <th>p (mbar)</th>\n",
              "      <th>T (degC)</th>\n",
              "      <th>Tpot (K)</th>\n",
              "      <th>Tdew (degC)</th>\n",
              "      <th>rh (%)</th>\n",
              "      <th>VPmax (mbar)</th>\n",
              "      <th>VPact (mbar)</th>\n",
              "      <th>VPdef (mbar)</th>\n",
              "      <th>sh (g/kg)</th>\n",
              "      <th>H2OC (mmol/mol)</th>\n",
              "      <th>rho (g/m**3)</th>\n",
              "      <th>wv (m/s)</th>\n",
              "      <th>max. wv (m/s)</th>\n",
              "      <th>wd (deg)</th>\n",
              "    </tr>\n",
              "  </thead>\n",
              "  <tbody>\n",
              "    <tr>\n",
              "      <th>0</th>\n",
              "      <td>01.01.2009 00:10:00</td>\n",
              "      <td>996.52</td>\n",
              "      <td>-8.02</td>\n",
              "      <td>265.40</td>\n",
              "      <td>-8.90</td>\n",
              "      <td>93.3</td>\n",
              "      <td>3.33</td>\n",
              "      <td>3.11</td>\n",
              "      <td>0.22</td>\n",
              "      <td>1.94</td>\n",
              "      <td>3.12</td>\n",
              "      <td>1307.75</td>\n",
              "      <td>1.03</td>\n",
              "      <td>1.75</td>\n",
              "      <td>152.3</td>\n",
              "    </tr>\n",
              "    <tr>\n",
              "      <th>1</th>\n",
              "      <td>01.01.2009 00:20:00</td>\n",
              "      <td>996.57</td>\n",
              "      <td>-8.41</td>\n",
              "      <td>265.01</td>\n",
              "      <td>-9.28</td>\n",
              "      <td>93.4</td>\n",
              "      <td>3.23</td>\n",
              "      <td>3.02</td>\n",
              "      <td>0.21</td>\n",
              "      <td>1.89</td>\n",
              "      <td>3.03</td>\n",
              "      <td>1309.80</td>\n",
              "      <td>0.72</td>\n",
              "      <td>1.50</td>\n",
              "      <td>136.1</td>\n",
              "    </tr>\n",
              "    <tr>\n",
              "      <th>2</th>\n",
              "      <td>01.01.2009 00:30:00</td>\n",
              "      <td>996.53</td>\n",
              "      <td>-8.51</td>\n",
              "      <td>264.91</td>\n",
              "      <td>-9.31</td>\n",
              "      <td>93.9</td>\n",
              "      <td>3.21</td>\n",
              "      <td>3.01</td>\n",
              "      <td>0.20</td>\n",
              "      <td>1.88</td>\n",
              "      <td>3.02</td>\n",
              "      <td>1310.24</td>\n",
              "      <td>0.19</td>\n",
              "      <td>0.63</td>\n",
              "      <td>171.6</td>\n",
              "    </tr>\n",
              "    <tr>\n",
              "      <th>3</th>\n",
              "      <td>01.01.2009 00:40:00</td>\n",
              "      <td>996.51</td>\n",
              "      <td>-8.31</td>\n",
              "      <td>265.12</td>\n",
              "      <td>-9.07</td>\n",
              "      <td>94.2</td>\n",
              "      <td>3.26</td>\n",
              "      <td>3.07</td>\n",
              "      <td>0.19</td>\n",
              "      <td>1.92</td>\n",
              "      <td>3.08</td>\n",
              "      <td>1309.19</td>\n",
              "      <td>0.34</td>\n",
              "      <td>0.50</td>\n",
              "      <td>198.0</td>\n",
              "    </tr>\n",
              "    <tr>\n",
              "      <th>4</th>\n",
              "      <td>01.01.2009 00:50:00</td>\n",
              "      <td>996.51</td>\n",
              "      <td>-8.27</td>\n",
              "      <td>265.15</td>\n",
              "      <td>-9.04</td>\n",
              "      <td>94.1</td>\n",
              "      <td>3.27</td>\n",
              "      <td>3.08</td>\n",
              "      <td>0.19</td>\n",
              "      <td>1.92</td>\n",
              "      <td>3.09</td>\n",
              "      <td>1309.00</td>\n",
              "      <td>0.32</td>\n",
              "      <td>0.63</td>\n",
              "      <td>214.3</td>\n",
              "    </tr>\n",
              "  </tbody>\n",
              "</table>\n",
              "</div>\n",
              "      <button class=\"colab-df-convert\" onclick=\"convertToInteractive('df-9f10f73b-3bc3-4483-a315-b39d36710ddd')\"\n",
              "              title=\"Convert this dataframe to an interactive table.\"\n",
              "              style=\"display:none;\">\n",
              "        \n",
              "  <svg xmlns=\"http://www.w3.org/2000/svg\" height=\"24px\"viewBox=\"0 0 24 24\"\n",
              "       width=\"24px\">\n",
              "    <path d=\"M0 0h24v24H0V0z\" fill=\"none\"/>\n",
              "    <path d=\"M18.56 5.44l.94 2.06.94-2.06 2.06-.94-2.06-.94-.94-2.06-.94 2.06-2.06.94zm-11 1L8.5 8.5l.94-2.06 2.06-.94-2.06-.94L8.5 2.5l-.94 2.06-2.06.94zm10 10l.94 2.06.94-2.06 2.06-.94-2.06-.94-.94-2.06-.94 2.06-2.06.94z\"/><path d=\"M17.41 7.96l-1.37-1.37c-.4-.4-.92-.59-1.43-.59-.52 0-1.04.2-1.43.59L10.3 9.45l-7.72 7.72c-.78.78-.78 2.05 0 2.83L4 21.41c.39.39.9.59 1.41.59.51 0 1.02-.2 1.41-.59l7.78-7.78 2.81-2.81c.8-.78.8-2.07 0-2.86zM5.41 20L4 18.59l7.72-7.72 1.47 1.35L5.41 20z\"/>\n",
              "  </svg>\n",
              "      </button>\n",
              "      \n",
              "  <style>\n",
              "    .colab-df-container {\n",
              "      display:flex;\n",
              "      flex-wrap:wrap;\n",
              "      gap: 12px;\n",
              "    }\n",
              "\n",
              "    .colab-df-convert {\n",
              "      background-color: #E8F0FE;\n",
              "      border: none;\n",
              "      border-radius: 50%;\n",
              "      cursor: pointer;\n",
              "      display: none;\n",
              "      fill: #1967D2;\n",
              "      height: 32px;\n",
              "      padding: 0 0 0 0;\n",
              "      width: 32px;\n",
              "    }\n",
              "\n",
              "    .colab-df-convert:hover {\n",
              "      background-color: #E2EBFA;\n",
              "      box-shadow: 0px 1px 2px rgba(60, 64, 67, 0.3), 0px 1px 3px 1px rgba(60, 64, 67, 0.15);\n",
              "      fill: #174EA6;\n",
              "    }\n",
              "\n",
              "    [theme=dark] .colab-df-convert {\n",
              "      background-color: #3B4455;\n",
              "      fill: #D2E3FC;\n",
              "    }\n",
              "\n",
              "    [theme=dark] .colab-df-convert:hover {\n",
              "      background-color: #434B5C;\n",
              "      box-shadow: 0px 1px 3px 1px rgba(0, 0, 0, 0.15);\n",
              "      filter: drop-shadow(0px 1px 2px rgba(0, 0, 0, 0.3));\n",
              "      fill: #FFFFFF;\n",
              "    }\n",
              "  </style>\n",
              "\n",
              "      <script>\n",
              "        const buttonEl =\n",
              "          document.querySelector('#df-9f10f73b-3bc3-4483-a315-b39d36710ddd button.colab-df-convert');\n",
              "        buttonEl.style.display =\n",
              "          google.colab.kernel.accessAllowed ? 'block' : 'none';\n",
              "\n",
              "        async function convertToInteractive(key) {\n",
              "          const element = document.querySelector('#df-9f10f73b-3bc3-4483-a315-b39d36710ddd');\n",
              "          const dataTable =\n",
              "            await google.colab.kernel.invokeFunction('convertToInteractive',\n",
              "                                                     [key], {});\n",
              "          if (!dataTable) return;\n",
              "\n",
              "          const docLinkHtml = 'Like what you see? Visit the ' +\n",
              "            '<a target=\"_blank\" href=https://colab.research.google.com/notebooks/data_table.ipynb>data table notebook</a>'\n",
              "            + ' to learn more about interactive tables.';\n",
              "          element.innerHTML = '';\n",
              "          dataTable['output_type'] = 'display_data';\n",
              "          await google.colab.output.renderOutput(dataTable, element);\n",
              "          const docLink = document.createElement('div');\n",
              "          docLink.innerHTML = docLinkHtml;\n",
              "          element.appendChild(docLink);\n",
              "        }\n",
              "      </script>\n",
              "    </div>\n",
              "  </div>\n",
              "  "
            ]
          },
          "metadata": {},
          "execution_count": 5
        }
      ]
    },
    {
      "cell_type": "markdown",
      "source": [
        "\n",
        "# Reducing the size of the dataset. \n"
      ],
      "metadata": {
        "id": "GcWEkrt-B9t1"
      }
    },
    {
      "cell_type": "markdown",
      "source": [
        "This dataset has an entry every 10 minutes thus taking every 6th entry will correspond to a reading every hour. Let us start from the 5th entry to have our readings start from 00:00:00, 01.01.2009."
      ],
      "metadata": {
        "id": "--BqX8jaCQ26"
      }
    },
    {
      "cell_type": "code",
      "source": [
        "df = df[5::6]\n",
        "df.head()"
      ],
      "metadata": {
        "colab": {
          "base_uri": "https://localhost:8080/",
          "height": 354
        },
        "id": "lRQX8wKgDCCx",
        "outputId": "5f079bea-4cb2-4032-a52e-86bed8273f96"
      },
      "execution_count": null,
      "outputs": [
        {
          "output_type": "execute_result",
          "data": {
            "text/plain": [
              "              Date Time  p (mbar)  T (degC)  Tpot (K)  Tdew (degC)  rh (%)  \\\n",
              "5   01.01.2009 01:00:00    996.50     -8.05    265.38        -8.78    94.4   \n",
              "11  01.01.2009 02:00:00    996.62     -8.88    264.54        -9.77    93.2   \n",
              "17  01.01.2009 03:00:00    996.84     -8.81    264.59        -9.66    93.5   \n",
              "23  01.01.2009 04:00:00    996.99     -9.05    264.34       -10.02    92.6   \n",
              "29  01.01.2009 05:00:00    997.46     -9.63    263.72       -10.65    92.2   \n",
              "\n",
              "    VPmax (mbar)  VPact (mbar)  VPdef (mbar)  sh (g/kg)  H2OC (mmol/mol)  \\\n",
              "5           3.33          3.14          0.19       1.96             3.15   \n",
              "11          3.12          2.90          0.21       1.81             2.91   \n",
              "17          3.13          2.93          0.20       1.83             2.94   \n",
              "23          3.07          2.85          0.23       1.78             2.85   \n",
              "29          2.94          2.71          0.23       1.69             2.71   \n",
              "\n",
              "    rho (g/m**3)  wv (m/s)  max. wv (m/s)  wd (deg)  \n",
              "5        1307.86      0.21           0.63     192.7  \n",
              "11       1312.25      0.25           0.63     190.3  \n",
              "17       1312.18      0.18           0.63     167.2  \n",
              "23       1313.61      0.10           0.38     240.0  \n",
              "29       1317.19      0.40           0.88     157.0  "
            ],
            "text/html": [
              "\n",
              "  <div id=\"df-a3c3729a-64ca-4460-8a66-9f9636a8041a\">\n",
              "    <div class=\"colab-df-container\">\n",
              "      <div>\n",
              "<style scoped>\n",
              "    .dataframe tbody tr th:only-of-type {\n",
              "        vertical-align: middle;\n",
              "    }\n",
              "\n",
              "    .dataframe tbody tr th {\n",
              "        vertical-align: top;\n",
              "    }\n",
              "\n",
              "    .dataframe thead th {\n",
              "        text-align: right;\n",
              "    }\n",
              "</style>\n",
              "<table border=\"1\" class=\"dataframe\">\n",
              "  <thead>\n",
              "    <tr style=\"text-align: right;\">\n",
              "      <th></th>\n",
              "      <th>Date Time</th>\n",
              "      <th>p (mbar)</th>\n",
              "      <th>T (degC)</th>\n",
              "      <th>Tpot (K)</th>\n",
              "      <th>Tdew (degC)</th>\n",
              "      <th>rh (%)</th>\n",
              "      <th>VPmax (mbar)</th>\n",
              "      <th>VPact (mbar)</th>\n",
              "      <th>VPdef (mbar)</th>\n",
              "      <th>sh (g/kg)</th>\n",
              "      <th>H2OC (mmol/mol)</th>\n",
              "      <th>rho (g/m**3)</th>\n",
              "      <th>wv (m/s)</th>\n",
              "      <th>max. wv (m/s)</th>\n",
              "      <th>wd (deg)</th>\n",
              "    </tr>\n",
              "  </thead>\n",
              "  <tbody>\n",
              "    <tr>\n",
              "      <th>5</th>\n",
              "      <td>01.01.2009 01:00:00</td>\n",
              "      <td>996.50</td>\n",
              "      <td>-8.05</td>\n",
              "      <td>265.38</td>\n",
              "      <td>-8.78</td>\n",
              "      <td>94.4</td>\n",
              "      <td>3.33</td>\n",
              "      <td>3.14</td>\n",
              "      <td>0.19</td>\n",
              "      <td>1.96</td>\n",
              "      <td>3.15</td>\n",
              "      <td>1307.86</td>\n",
              "      <td>0.21</td>\n",
              "      <td>0.63</td>\n",
              "      <td>192.7</td>\n",
              "    </tr>\n",
              "    <tr>\n",
              "      <th>11</th>\n",
              "      <td>01.01.2009 02:00:00</td>\n",
              "      <td>996.62</td>\n",
              "      <td>-8.88</td>\n",
              "      <td>264.54</td>\n",
              "      <td>-9.77</td>\n",
              "      <td>93.2</td>\n",
              "      <td>3.12</td>\n",
              "      <td>2.90</td>\n",
              "      <td>0.21</td>\n",
              "      <td>1.81</td>\n",
              "      <td>2.91</td>\n",
              "      <td>1312.25</td>\n",
              "      <td>0.25</td>\n",
              "      <td>0.63</td>\n",
              "      <td>190.3</td>\n",
              "    </tr>\n",
              "    <tr>\n",
              "      <th>17</th>\n",
              "      <td>01.01.2009 03:00:00</td>\n",
              "      <td>996.84</td>\n",
              "      <td>-8.81</td>\n",
              "      <td>264.59</td>\n",
              "      <td>-9.66</td>\n",
              "      <td>93.5</td>\n",
              "      <td>3.13</td>\n",
              "      <td>2.93</td>\n",
              "      <td>0.20</td>\n",
              "      <td>1.83</td>\n",
              "      <td>2.94</td>\n",
              "      <td>1312.18</td>\n",
              "      <td>0.18</td>\n",
              "      <td>0.63</td>\n",
              "      <td>167.2</td>\n",
              "    </tr>\n",
              "    <tr>\n",
              "      <th>23</th>\n",
              "      <td>01.01.2009 04:00:00</td>\n",
              "      <td>996.99</td>\n",
              "      <td>-9.05</td>\n",
              "      <td>264.34</td>\n",
              "      <td>-10.02</td>\n",
              "      <td>92.6</td>\n",
              "      <td>3.07</td>\n",
              "      <td>2.85</td>\n",
              "      <td>0.23</td>\n",
              "      <td>1.78</td>\n",
              "      <td>2.85</td>\n",
              "      <td>1313.61</td>\n",
              "      <td>0.10</td>\n",
              "      <td>0.38</td>\n",
              "      <td>240.0</td>\n",
              "    </tr>\n",
              "    <tr>\n",
              "      <th>29</th>\n",
              "      <td>01.01.2009 05:00:00</td>\n",
              "      <td>997.46</td>\n",
              "      <td>-9.63</td>\n",
              "      <td>263.72</td>\n",
              "      <td>-10.65</td>\n",
              "      <td>92.2</td>\n",
              "      <td>2.94</td>\n",
              "      <td>2.71</td>\n",
              "      <td>0.23</td>\n",
              "      <td>1.69</td>\n",
              "      <td>2.71</td>\n",
              "      <td>1317.19</td>\n",
              "      <td>0.40</td>\n",
              "      <td>0.88</td>\n",
              "      <td>157.0</td>\n",
              "    </tr>\n",
              "  </tbody>\n",
              "</table>\n",
              "</div>\n",
              "      <button class=\"colab-df-convert\" onclick=\"convertToInteractive('df-a3c3729a-64ca-4460-8a66-9f9636a8041a')\"\n",
              "              title=\"Convert this dataframe to an interactive table.\"\n",
              "              style=\"display:none;\">\n",
              "        \n",
              "  <svg xmlns=\"http://www.w3.org/2000/svg\" height=\"24px\"viewBox=\"0 0 24 24\"\n",
              "       width=\"24px\">\n",
              "    <path d=\"M0 0h24v24H0V0z\" fill=\"none\"/>\n",
              "    <path d=\"M18.56 5.44l.94 2.06.94-2.06 2.06-.94-2.06-.94-.94-2.06-.94 2.06-2.06.94zm-11 1L8.5 8.5l.94-2.06 2.06-.94-2.06-.94L8.5 2.5l-.94 2.06-2.06.94zm10 10l.94 2.06.94-2.06 2.06-.94-2.06-.94-.94-2.06-.94 2.06-2.06.94z\"/><path d=\"M17.41 7.96l-1.37-1.37c-.4-.4-.92-.59-1.43-.59-.52 0-1.04.2-1.43.59L10.3 9.45l-7.72 7.72c-.78.78-.78 2.05 0 2.83L4 21.41c.39.39.9.59 1.41.59.51 0 1.02-.2 1.41-.59l7.78-7.78 2.81-2.81c.8-.78.8-2.07 0-2.86zM5.41 20L4 18.59l7.72-7.72 1.47 1.35L5.41 20z\"/>\n",
              "  </svg>\n",
              "      </button>\n",
              "      \n",
              "  <style>\n",
              "    .colab-df-container {\n",
              "      display:flex;\n",
              "      flex-wrap:wrap;\n",
              "      gap: 12px;\n",
              "    }\n",
              "\n",
              "    .colab-df-convert {\n",
              "      background-color: #E8F0FE;\n",
              "      border: none;\n",
              "      border-radius: 50%;\n",
              "      cursor: pointer;\n",
              "      display: none;\n",
              "      fill: #1967D2;\n",
              "      height: 32px;\n",
              "      padding: 0 0 0 0;\n",
              "      width: 32px;\n",
              "    }\n",
              "\n",
              "    .colab-df-convert:hover {\n",
              "      background-color: #E2EBFA;\n",
              "      box-shadow: 0px 1px 2px rgba(60, 64, 67, 0.3), 0px 1px 3px 1px rgba(60, 64, 67, 0.15);\n",
              "      fill: #174EA6;\n",
              "    }\n",
              "\n",
              "    [theme=dark] .colab-df-convert {\n",
              "      background-color: #3B4455;\n",
              "      fill: #D2E3FC;\n",
              "    }\n",
              "\n",
              "    [theme=dark] .colab-df-convert:hover {\n",
              "      background-color: #434B5C;\n",
              "      box-shadow: 0px 1px 3px 1px rgba(0, 0, 0, 0.15);\n",
              "      filter: drop-shadow(0px 1px 2px rgba(0, 0, 0, 0.3));\n",
              "      fill: #FFFFFF;\n",
              "    }\n",
              "  </style>\n",
              "\n",
              "      <script>\n",
              "        const buttonEl =\n",
              "          document.querySelector('#df-a3c3729a-64ca-4460-8a66-9f9636a8041a button.colab-df-convert');\n",
              "        buttonEl.style.display =\n",
              "          google.colab.kernel.accessAllowed ? 'block' : 'none';\n",
              "\n",
              "        async function convertToInteractive(key) {\n",
              "          const element = document.querySelector('#df-a3c3729a-64ca-4460-8a66-9f9636a8041a');\n",
              "          const dataTable =\n",
              "            await google.colab.kernel.invokeFunction('convertToInteractive',\n",
              "                                                     [key], {});\n",
              "          if (!dataTable) return;\n",
              "\n",
              "          const docLinkHtml = 'Like what you see? Visit the ' +\n",
              "            '<a target=\"_blank\" href=https://colab.research.google.com/notebooks/data_table.ipynb>data table notebook</a>'\n",
              "            + ' to learn more about interactive tables.';\n",
              "          element.innerHTML = '';\n",
              "          dataTable['output_type'] = 'display_data';\n",
              "          await google.colab.output.renderOutput(dataTable, element);\n",
              "          const docLink = document.createElement('div');\n",
              "          docLink.innerHTML = docLinkHtml;\n",
              "          element.appendChild(docLink);\n",
              "        }\n",
              "      </script>\n",
              "    </div>\n",
              "  </div>\n",
              "  "
            ]
          },
          "metadata": {},
          "execution_count": 6
        }
      ]
    },
    {
      "cell_type": "markdown",
      "source": [
        "# Plotting the column \"T (degC)\" with the datetime column."
      ],
      "metadata": {
        "id": "HlntubFBAuHb"
      }
    },
    {
      "cell_type": "code",
      "source": [
        "df['Date Time'] = pd.to_datetime(df['Date Time'],format='%d.%m.%Y %H:%M:%S')  # converting the date time column to a suitable format"
      ],
      "metadata": {
        "id": "ZJOJsf0u67A1"
      },
      "execution_count": null,
      "outputs": []
    },
    {
      "cell_type": "code",
      "source": [
        "plt.figure(figsize=(15,7))\n",
        "plt.plot(df['Date Time'],df['T (degC)'], color='red')\n",
        "plt.xlabel('Year')\n",
        "plt.ylabel('T (degC)')\n",
        "plt.title(\"Variation of temperature\")"
      ],
      "metadata": {
        "colab": {
          "base_uri": "https://localhost:8080/",
          "height": 475
        },
        "id": "TQz2KtHe669m",
        "outputId": "55051f04-008f-4f3e-e5f3-b31a2f2e74d4"
      },
      "execution_count": null,
      "outputs": [
        {
          "output_type": "execute_result",
          "data": {
            "text/plain": [
              "Text(0.5, 1.0, 'Variation of temperature')"
            ]
          },
          "metadata": {},
          "execution_count": 8
        },
        {
          "output_type": "display_data",
          "data": {
            "text/plain": [
              "<Figure size 1080x504 with 1 Axes>"
            ],
            "image/png": "[encoded data removed]"
          },
          "metadata": {
            "needs_background": "light"
          }
        }
      ]
    },
    {
      "cell_type": "markdown",
      "source": [
        "# Model 1\n",
        "#### LSTM applied only on the temperature attribute. It is an example of a simple time series forecasting."
      ],
      "metadata": {
        "id": "bZd1at5lEzuS"
      }
    },
    {
      "cell_type": "markdown",
      "source": [
        "Normally in deep learning, you need the input to be in a certain form, mostly a matrix form with many dimensions. Sometimes, you can even have 3D or 4D tensors.\n",
        "For an LSTM model, we need to decide how many of the previous values should be used for the prediction of the current value. For the sake of simplicity, let us decide on 5 this and all the subsequent models."
      ],
      "metadata": {
        "id": "B6E78Q99F7rB"
      }
    },
    {
      "cell_type": "code",
      "source": [
        "wind_size=5"
      ],
      "metadata": {
        "id": "IW-6H2TVI_ON"
      },
      "execution_count": null,
      "outputs": []
    },
    {
      "cell_type": "markdown",
      "source": [
        "If we denote entries with serial numbers then out input will look something like this-\n",
        "\n",
        "\n",
        "\n",
        "```\n",
        "X =                      Y\n",
        "[[[1],[2],[3],[4],[5]]] [6] \n",
        "[[[2],[3],[4],[5],[6]]] [7]\n",
        "[[[3],[4],[5],[6],[7]]] [8]\n",
        "\n",
        "\n",
        "```\n",
        "\n",
        "We are making a forecasting problem into a supervised learning problem.\n",
        "Below is the function for the converting the input into a suitable format for the LSTM model. \n"
      ],
      "metadata": {
        "id": "lvwnkaqDGY4a"
      }
    },
    {
      "cell_type": "code",
      "source": [
        "def input_formatter1(df,window_size=5):   # window size means how many of the consecutive previous values are you taking\n",
        "  df_as_np = df.to_numpy() # converting dataframe to numpy\n",
        "  X = []\n",
        "  Y = []\n",
        "  for i in range(len(df_as_np)-window_size):\n",
        "    row=[[a] for a in df_as_np[i:i+window_size]]\n",
        "    X.append(row)\n",
        "    Y.append(df_as_np[i+5])\n",
        "  return np.array(X), np.array(Y)"
      ],
      "metadata": {
        "id": "q9JjnJgc664M"
      },
      "execution_count": null,
      "outputs": []
    },
    {
      "cell_type": "markdown",
      "source": [
        "The shape of X might be a bit confusing but the thumb rule is that every individual value (for 1 timestamp) needs to be in a separate bracket. So the 5 lag values needs to be a list of 5 one value list. And then the whole thing needs to be in a list. "
      ],
      "metadata": {
        "id": "pwX8tRUvG9vq"
      }
    },
    {
      "cell_type": "markdown",
      "source": [
        "Now let us feed the data to the input_formatter. Make a special note on the shape of X1. "
      ],
      "metadata": {
        "id": "_YzfrhU_GzDO"
      }
    },
    {
      "cell_type": "code",
      "source": [
        "X1,Y1 = input_formatter1(df['T (degC)'],5) # 5 is the window size\n",
        "print(\"X shape=\", X1.shape)\n",
        "print(\"Y shape=\",Y1.shape)"
      ],
      "metadata": {
        "colab": {
          "base_uri": "https://localhost:8080/"
        },
        "id": "Ao7RskZH661b",
        "outputId": "da212805-916f-489a-8a27-02ca182b6150"
      },
      "execution_count": null,
      "outputs": [
        {
          "output_type": "stream",
          "name": "stdout",
          "text": [
            "X shape= (70086, 5, 1)\n",
            "Y shape= (70086,)\n"
          ]
        }
      ]
    },
    {
      "cell_type": "markdown",
      "source": [
        "Now we will split the data into training, validation and testing sets. Make sure you do not jumble up the records. The sequence is very important here. You cannot shuffle the data here.\n"
      ],
      "metadata": {
        "id": "BeXckso2IMLe"
      }
    },
    {
      "cell_type": "code",
      "source": [
        "X1_train,Y1_train=X1[:60000], Y1[:60000]\n",
        "X1_val, Y1_val = X1[60000:65000], Y1[60000:65000]\n",
        "X1_test, Y1_test = X1[65000:], Y1[65000:]\n",
        "print (\"Shape of the training input = \", X1_train.shape)"
      ],
      "metadata": {
        "colab": {
          "base_uri": "https://localhost:8080/"
        },
        "id": "FfOBI5bi7JKo",
        "outputId": "498e3837-869d-48c4-81d0-5dcd87e2c62f"
      },
      "execution_count": null,
      "outputs": [
        {
          "output_type": "stream",
          "name": "stdout",
          "text": [
            "Shape of the training input =  (60000, 5, 1)\n"
          ]
        }
      ]
    },
    {
      "cell_type": "code",
      "source": [
        "model1 = Sequential()\n",
        "model1.add(InputLayer((wind_size,1))) # Pay attention to the imput layer shape. Compare it with X_train.shape\n",
        "model1.add(LSTM(64))\n",
        "model1.add(Dense(8,'relu'))\n",
        "model1.add(Dense(1,'linear')) # As we are trying to predict a linear value\n",
        "\n",
        "model1.summary() # This is used to see the layers and cross check if the output shape at the end (dense_3) is 1 or not, as we are predicting only one value"
      ],
      "metadata": {
        "colab": {
          "base_uri": "https://localhost:8080/"
        },
        "id": "yAznyrxjIh9r",
        "outputId": "c3f2d815-303a-48e6-98bb-99bd85f88691"
      },
      "execution_count": null,
      "outputs": [
        {
          "output_type": "stream",
          "name": "stdout",
          "text": [
            "Model: \"sequential\"\n",
            "_________________________________________________________________\n",
            " Layer (type)                Output Shape              Param #   \n",
            "=================================================================\n",
            " lstm (LSTM)                 (None, 64)                16896     \n",
            "                                                                 \n",
            " dense (Dense)               (None, 8)                 520       \n",
            "                                                                 \n",
            " dense_1 (Dense)             (None, 1)                 9         \n",
            "                                                                 \n",
            "=================================================================\n",
            "Total params: 17,425\n",
            "Trainable params: 17,425\n",
            "Non-trainable params: 0\n",
            "_________________________________________________________________\n"
          ]
        }
      ]
    },
    {
      "cell_type": "code",
      "source": [
        "cp1 = ModelCheckpoint('model1/',save_best_only=True) # only save the model which has lowest loss values\n",
        "model1.compile(loss=MeanSquaredError(),optimizer=Adam(learning_rate=0.0001), metrics=[RootMeanSquaredError()]) "
      ],
      "metadata": {
        "id": "6VuTEKnXIkx0"
      },
      "execution_count": null,
      "outputs": []
    },
    {
      "cell_type": "code",
      "source": [
        "model1.fit(X1_train, Y1_train, validation_data=(X1_val,Y1_val), \n",
        "          epochs=1, #How many runs it has had on the data\n",
        "          callbacks=[cp1]) # To make sure it calls cp after evey epoch to see if the model should be saved or not."
      ],
      "metadata": {
        "colab": {
          "base_uri": "https://localhost:8080/"
        },
        "id": "PwRaDCEdJlOS",
        "outputId": "2499acda-1ca7-49df-a421-5fc71298569e"
      },
      "execution_count": null,
      "outputs": [
        {
          "output_type": "stream",
          "name": "stdout",
          "text": [
            "1875/1875 [==============================] - 17s 8ms/step - loss: 33.1827 - root_mean_squared_error: 5.7604 - val_loss: 1.3252 - val_root_mean_squared_error: 1.1512\n"
          ]
        },
        {
          "output_type": "execute_result",
          "data": {
            "text/plain": [
              "<keras.callbacks.History at 0x7fb048fb3d90>"
            ]
          },
          "metadata": {},
          "execution_count": 15
        }
      ]
    },
    {
      "cell_type": "markdown",
      "source": [
        "So here, it has many models with many different errors and loss. The \"model1\" identifier currently has the last model it ran and not the best model. So to load that up, we use the following command."
      ],
      "metadata": {
        "id": "G0LnC7NTKGkm"
      }
    },
    {
      "cell_type": "code",
      "source": [
        "model1 = load_model('model1/')"
      ],
      "metadata": {
        "id": "7Qm2dEt1KOQk"
      },
      "execution_count": null,
      "outputs": []
    },
    {
      "cell_type": "markdown",
      "source": [
        "To automate the code to plot predicted and actual values for the training, validation and testing sets, this function was made."
      ],
      "metadata": {
        "id": "q06na2rIKgrX"
      }
    },
    {
      "cell_type": "code",
      "source": [
        "def plot_predictions1(model,X,Y,start=0, end=100):\n",
        "  predictions = model.predict(X).flatten()\n",
        "  df = pd.DataFrame(data={'Predictions':predictions,\"Actuals\":Y})\n",
        "  plt.plot(df['Predictions'][start:end])\n",
        "  plt.plot(df['Actuals'][start:end])\n",
        "  plt.xlabel('Serial No.')\n",
        "  plt.ylabel('Temperature')\n",
        "  return df, mse(Y,predictions)"
      ],
      "metadata": {
        "id": "9S1oapVtIh6T"
      },
      "execution_count": null,
      "outputs": []
    },
    {
      "cell_type": "markdown",
      "source": [
        "Plotting the training data predictions and actual values and then the same for the validation and testing sets."
      ],
      "metadata": {
        "id": "9aEwf0oZLwok"
      }
    },
    {
      "cell_type": "code",
      "source": [
        "plot_predictions1(model1,X1_train,Y1_train)"
      ],
      "metadata": {
        "colab": {
          "base_uri": "https://localhost:8080/",
          "height": 522
        },
        "id": "ebzJmmOEIh37",
        "outputId": "9b813b27-b9bd-4962-fc95-b1801357ac21"
      },
      "execution_count": null,
      "outputs": [
        {
          "output_type": "execute_result",
          "data": {
            "text/plain": [
              "(       Predictions  Actuals\n",
              " 0        -4.020613    -9.67\n",
              " 1        -4.040000    -9.17\n",
              " 2        -4.060068    -8.10\n",
              " 3        -4.087640    -7.66\n",
              " 4        -4.073408    -7.04\n",
              " ...            ...      ...\n",
              " 59995     4.800660     6.07\n",
              " 59996     7.463879     9.88\n",
              " 59997    11.562741    13.53\n",
              " 59998    15.256411    15.43\n",
              " 59999    16.253471    15.54\n",
              " \n",
              " [60000 rows x 2 columns], 4.401621541246536)"
            ]
          },
          "metadata": {},
          "execution_count": 18
        },
        {
          "output_type": "display_data",
          "data": {
            "text/plain": [
              "<Figure size 432x288 with 1 Axes>"
            ],
            "image/png": "[encoded data removed]"
          },
          "metadata": {
            "needs_background": "light"
          }
        }
      ]
    },
    {
      "cell_type": "code",
      "source": [
        "plot_predictions1(model1,X1_val,Y1_val)"
      ],
      "metadata": {
        "colab": {
          "base_uri": "https://localhost:8080/",
          "height": 525
        },
        "id": "fX5NyzaxIh1R",
        "outputId": "177a5fdc-fa17-4ccf-cb8f-252964706c7a"
      },
      "execution_count": null,
      "outputs": [
        {
          "output_type": "execute_result",
          "data": {
            "text/plain": [
              "(      Predictions  Actuals\n",
              " 0       15.862345    14.02\n",
              " 1       14.079723    13.67\n",
              " 2       13.543207    12.27\n",
              " 3       12.147369    11.19\n",
              " 4       11.094381    10.85\n",
              " ...           ...      ...\n",
              " 4995    19.180288    18.27\n",
              " 4996    18.411552    17.85\n",
              " 4997    17.896624    16.65\n",
              " 4998    16.855202    15.85\n",
              " 4999    15.891182    15.09\n",
              " \n",
              " [5000 rows x 2 columns], 1.325207110050719)"
            ]
          },
          "metadata": {},
          "execution_count": 19
        },
        {
          "output_type": "display_data",
          "data": {
            "text/plain": [
              "<Figure size 432x288 with 1 Axes>"
            ],
            "image/png": "[encoded data removed]"
          },
          "metadata": {
            "needs_background": "light"
          }
        }
      ]
    },
    {
      "cell_type": "code",
      "source": [
        "plot_predictions1(model1,X1_test,Y1_test)"
      ],
      "metadata": {
        "colab": {
          "base_uri": "https://localhost:8080/",
          "height": 522
        },
        "id": "ZUS5N9hHIhy4",
        "outputId": "70593ed6-4ac9-464a-cbf4-46af10b09c11"
      },
      "execution_count": null,
      "outputs": [
        {
          "output_type": "execute_result",
          "data": {
            "text/plain": [
              "(      Predictions  Actuals\n",
              " 0       15.004850    13.99\n",
              " 1       13.869854    13.46\n",
              " 2       13.319894    12.93\n",
              " 3       12.808607    12.43\n",
              " 4       12.328307    12.17\n",
              " ...           ...      ...\n",
              " 5081    -0.421272    -0.98\n",
              " 5082    -0.831348    -1.40\n",
              " 5083    -1.031243    -2.75\n",
              " 5084    -1.635200    -2.89\n",
              " 5085    -2.184929    -3.93\n",
              " \n",
              " [5086 rows x 2 columns], 4.910788382446581)"
            ]
          },
          "metadata": {},
          "execution_count": 20
        },
        {
          "output_type": "display_data",
          "data": {
            "text/plain": [
              "<Figure size 432x288 with 1 Axes>"
            ],
            "image/png": "[encoded data removed]"
          },
          "metadata": {
            "needs_background": "light"
          }
        }
      ]
    },
    {
      "cell_type": "markdown",
      "source": [
        "# Model 2\n",
        "#### CNN with a simple time series forcasting (only using the temperature variable)."
      ],
      "metadata": {
        "id": "gw2oaCx5NmAt"
      }
    },
    {
      "cell_type": "markdown",
      "source": [
        "Normally RNN is always associated with forecasting and NLP. CNN are always associated with images but that is not always true, you can have 1D matrix instead of 2D. CNN are much simpler than RNN so let us use that in time forecasting.\n",
        "<br>\n",
        "So now we will be making a CNN model for time forecasting. We copy the last LSTM code and replace LSTM with Conv1D. This is still a simple time series prediction which is only considering the temperature feature. "
      ],
      "metadata": {
        "id": "x5udPF_oR7R1"
      }
    },
    {
      "cell_type": "code",
      "source": [
        "model2 = Sequential()\n",
        "model2.add(InputLayer((wind_size,1))) # Pay attention to the input layer shape. Compare it with X_train.shape\n",
        "model2.add(Conv1D(64,kernel_size=2))\n",
        "model2.add(Flatten())\n",
        "model2.add(Dense(8,'relu'))\n",
        "model2.add(Dense(1,'linear')) # As we are trying to predict a linear value\n",
        "\n",
        "model2.summary() # This is used to see the layers and cross check if the output shape at the end (dense_3) is 1 or not, as we are predicting only one value"
      ],
      "metadata": {
        "colab": {
          "base_uri": "https://localhost:8080/"
        },
        "id": "Zfz3xfjDNruK",
        "outputId": "f7e18437-76a3-4442-9c80-ab85cab02ab9"
      },
      "execution_count": null,
      "outputs": [
        {
          "output_type": "stream",
          "name": "stdout",
          "text": [
            "Model: \"sequential_1\"\n",
            "_________________________________________________________________\n",
            " Layer (type)                Output Shape              Param #   \n",
            "=================================================================\n",
            " conv1d (Conv1D)             (None, 4, 64)             192       \n",
            "                                                                 \n",
            " flatten (Flatten)           (None, 256)               0         \n",
            "                                                                 \n",
            " dense_2 (Dense)             (None, 8)                 2056      \n",
            "                                                                 \n",
            " dense_3 (Dense)             (None, 1)                 9         \n",
            "                                                                 \n",
            "=================================================================\n",
            "Total params: 2,257\n",
            "Trainable params: 2,257\n",
            "Non-trainable params: 0\n",
            "_________________________________________________________________\n"
          ]
        }
      ]
    },
    {
      "cell_type": "code",
      "source": [
        "cp2 = ModelCheckpoint('model2/',save_best_only=True) # only save the model which has lowest loss values\n",
        "model2.compile(loss=MeanSquaredError(),optimizer=Adam(learning_rate=0.0001), metrics=[RootMeanSquaredError()]) "
      ],
      "metadata": {
        "id": "MTMADYD6qLgv"
      },
      "execution_count": null,
      "outputs": []
    },
    {
      "cell_type": "markdown",
      "source": [
        "Here we have not made a new input_formatter or X2 or Y2 to divide them into training, validation and testing sets. The ones from model1 work perfectly fine as the input shape has to be the same."
      ],
      "metadata": {
        "id": "mkjXxst9TWcU"
      }
    },
    {
      "cell_type": "code",
      "source": [
        "model2.fit(X1_train, Y1_train, validation_data=(X1_val,Y1_val), \n",
        "          epochs=1, #How many runs it has had on the data\n",
        "          callbacks=[cp2]) # To make sure it calls cp after evey epoch to see if the model should be saved or not."
      ],
      "metadata": {
        "colab": {
          "base_uri": "https://localhost:8080/"
        },
        "id": "F2XCZcoNSoYv",
        "outputId": "ef2525fe-c101-4cb1-bdb4-1a5c22b86c14"
      },
      "execution_count": null,
      "outputs": [
        {
          "output_type": "stream",
          "name": "stdout",
          "text": [
            "1875/1875 [==============================] - 5s 2ms/step - loss: 7.1559 - root_mean_squared_error: 2.6751 - val_loss: 2.0573 - val_root_mean_squared_error: 1.4343\n"
          ]
        },
        {
          "output_type": "execute_result",
          "data": {
            "text/plain": [
              "<keras.callbacks.History at 0x7fb048d96ed0>"
            ]
          },
          "metadata": {},
          "execution_count": 23
        }
      ]
    },
    {
      "cell_type": "code",
      "source": [
        "model2 = load_model('model2/')"
      ],
      "metadata": {
        "id": "MF85d58cSoWd"
      },
      "execution_count": null,
      "outputs": []
    },
    {
      "cell_type": "markdown",
      "source": [
        "We will also be using the plot_predictions1 as the format of tje data is the same."
      ],
      "metadata": {
        "id": "X_hDQLGoUtZv"
      }
    },
    {
      "cell_type": "code",
      "source": [
        "plot_predictions1(model2,X1_train,Y1_train)"
      ],
      "metadata": {
        "colab": {
          "base_uri": "https://localhost:8080/",
          "height": 522
        },
        "id": "6PI_niPZSoUC",
        "outputId": "1b4e9bdf-c7ef-4769-eb88-7a379e832817"
      },
      "execution_count": null,
      "outputs": [
        {
          "output_type": "execute_result",
          "data": {
            "text/plain": [
              "(       Predictions  Actuals\n",
              " 0        -0.085736    -9.67\n",
              " 1        -0.085736    -9.17\n",
              " 2        -0.085736    -8.10\n",
              " 3        -0.085736    -7.66\n",
              " 4        -0.085736    -7.04\n",
              " ...            ...      ...\n",
              " 59995     5.119730     6.07\n",
              " 59996     6.908563     9.88\n",
              " 59997    10.672206    13.53\n",
              " 59998    14.813601    15.43\n",
              " 59999    17.326275    15.54\n",
              " \n",
              " [60000 rows x 2 columns], 4.995332701524831)"
            ]
          },
          "metadata": {},
          "execution_count": 25
        },
        {
          "output_type": "display_data",
          "data": {
            "text/plain": [
              "<Figure size 432x288 with 1 Axes>"
            ],
            "image/png": "[encoded data removed]"
          },
          "metadata": {
            "needs_background": "light"
          }
        }
      ]
    },
    {
      "cell_type": "code",
      "source": [
        "plot_predictions1(model2,X1_val,Y1_val)"
      ],
      "metadata": {
        "colab": {
          "base_uri": "https://localhost:8080/",
          "height": 522
        },
        "id": "od8RtMrpSoRf",
        "outputId": "826d0511-66d2-4c2e-f027-406cc0e37621"
      },
      "execution_count": null,
      "outputs": [
        {
          "output_type": "execute_result",
          "data": {
            "text/plain": [
              "(      Predictions  Actuals\n",
              " 0       17.317070    14.02\n",
              " 1       14.996158    13.67\n",
              " 2       13.554120    12.27\n",
              " 3       11.864229    11.19\n",
              " 4       10.739079    10.85\n",
              " ...           ...      ...\n",
              " 4995    18.685890    18.27\n",
              " 4996    17.824169    17.85\n",
              " 4997    17.019405    16.65\n",
              " 4998    16.236450    15.85\n",
              " 4999    15.437292    15.09\n",
              " \n",
              " [5000 rows x 2 columns], 2.0573343407732407)"
            ]
          },
          "metadata": {},
          "execution_count": 26
        },
        {
          "output_type": "display_data",
          "data": {
            "text/plain": [
              "<Figure size 432x288 with 1 Axes>"
            ],
            "image/png": "[encoded data removed]"
          },
          "metadata": {
            "needs_background": "light"
          }
        }
      ]
    },
    {
      "cell_type": "code",
      "source": [
        "plot_predictions1(model2,X1_test,Y1_test)"
      ],
      "metadata": {
        "colab": {
          "base_uri": "https://localhost:8080/",
          "height": 522
        },
        "id": "NCo6T0p1SoPP",
        "outputId": "89f6370d-c950-4633-efa2-8fde7e6ea251"
      },
      "execution_count": null,
      "outputs": [
        {
          "output_type": "execute_result",
          "data": {
            "text/plain": [
              "(      Predictions  Actuals\n",
              " 0       14.533166    13.99\n",
              " 1       13.524335    13.46\n",
              " 2       12.949762    12.93\n",
              " 3       12.464773    12.43\n",
              " 4       12.105327    12.17\n",
              " ...           ...      ...\n",
              " 5081     0.273893    -0.98\n",
              " 5082     0.020985    -1.40\n",
              " 5083    -0.201436    -2.75\n",
              " 5084    -0.155409    -2.89\n",
              " 5085    -0.085736    -3.93\n",
              " \n",
              " [5086 rows x 2 columns], 1.862526789022447)"
            ]
          },
          "metadata": {},
          "execution_count": 27
        },
        {
          "output_type": "display_data",
          "data": {
            "text/plain": [
              "<Figure size 432x288 with 1 Axes>"
            ],
            "image/png": "[encoded data removed]"
          },
          "metadata": {
            "needs_background": "light"
          }
        }
      ]
    },
    {
      "cell_type": "markdown",
      "source": [
        "# Model 3\n",
        "We will be using GRU (Gated Recurrent Unit). It is a type of RNN. GRU is findamentally more like LSTM that Conv1D. It can be thought of as a simpler LSTM."
      ],
      "metadata": {
        "id": "nd1NqF5fVZWp"
      }
    },
    {
      "cell_type": "code",
      "source": [
        "model3 = Sequential()\n",
        "model3.add(InputLayer((wind_size,1)))\n",
        "model3.add(GRU(64))\n",
        "model3.add(Dense(8,'relu'))\n",
        "model3.add(Dense(1,'linear'))\n",
        "\n",
        "model3.summary()"
      ],
      "metadata": {
        "colab": {
          "base_uri": "https://localhost:8080/"
        },
        "id": "_qy0oyHYqLXk",
        "outputId": "d139e222-1bcb-4ed3-a300-0004e53055b8"
      },
      "execution_count": null,
      "outputs": [
        {
          "output_type": "stream",
          "name": "stdout",
          "text": [
            "Model: \"sequential_2\"\n",
            "_________________________________________________________________\n",
            " Layer (type)                Output Shape              Param #   \n",
            "=================================================================\n",
            " gru (GRU)                   (None, 64)                12864     \n",
            "                                                                 \n",
            " dense_4 (Dense)             (None, 8)                 520       \n",
            "                                                                 \n",
            " dense_5 (Dense)             (None, 1)                 9         \n",
            "                                                                 \n",
            "=================================================================\n",
            "Total params: 13,393\n",
            "Trainable params: 13,393\n",
            "Non-trainable params: 0\n",
            "_________________________________________________________________\n"
          ]
        }
      ]
    },
    {
      "cell_type": "code",
      "source": [
        "cp3 = ModelCheckpoint('model3/',save_best_only=True)\n",
        "model3.compile(loss=MeanSquaredError(),optimizer=Adam(learning_rate=0.0001),metrics=[RootMeanSquaredError()])"
      ],
      "metadata": {
        "id": "6Nd6sK07SoHi"
      },
      "execution_count": null,
      "outputs": []
    },
    {
      "cell_type": "markdown",
      "source": [
        "As again, we do not have a change of format of the input, we can continue using X1 and Y1."
      ],
      "metadata": {
        "id": "6jAgaviNXMT9"
      }
    },
    {
      "cell_type": "code",
      "source": [
        "model3.fit(X1_train, Y1_train, validation_data=(X1_val,Y1_val), \n",
        "          epochs=1, #How many runs it has had on the data\n",
        "          callbacks=[cp3]) # To make sure it calls cp after evey epoch to see if the model should be saved or not."
      ],
      "metadata": {
        "colab": {
          "base_uri": "https://localhost:8080/"
        },
        "id": "xAUvUj-xSoE-",
        "outputId": "71421b50-d82e-4b09-8a11-52f5fd56ec46"
      },
      "execution_count": null,
      "outputs": [
        {
          "output_type": "stream",
          "name": "stdout",
          "text": [
            "1875/1875 [==============================] - 15s 7ms/step - loss: 46.3602 - root_mean_squared_error: 6.8088 - val_loss: 1.6602 - val_root_mean_squared_error: 1.2885\n"
          ]
        },
        {
          "output_type": "execute_result",
          "data": {
            "text/plain": [
              "<keras.callbacks.History at 0x7fb04467de50>"
            ]
          },
          "metadata": {},
          "execution_count": 30
        }
      ]
    },
    {
      "cell_type": "code",
      "source": [
        "model3 = load_model('model3/')"
      ],
      "metadata": {
        "id": "lW-ILekjX6cm"
      },
      "execution_count": null,
      "outputs": []
    },
    {
      "cell_type": "code",
      "source": [
        "plot_predictions1(model3,X1_train,Y1_train)"
      ],
      "metadata": {
        "colab": {
          "base_uri": "https://localhost:8080/",
          "height": 522
        },
        "id": "2pxyv9NDSoCj",
        "outputId": "59645e3b-af52-4298-82ac-2b814a4a2fd4"
      },
      "execution_count": null,
      "outputs": [
        {
          "output_type": "execute_result",
          "data": {
            "text/plain": [
              "(       Predictions  Actuals\n",
              " 0        -8.855218    -9.67\n",
              " 1        -9.015677    -9.17\n",
              " 2        -8.957032    -8.10\n",
              " 3        -8.632148    -7.66\n",
              " 4        -8.315305    -7.04\n",
              " ...            ...      ...\n",
              " 59995     7.219773     6.07\n",
              " 59996     9.021466     9.88\n",
              " 59997    11.415808    13.53\n",
              " 59998    14.368063    15.43\n",
              " 59999    15.527028    15.54\n",
              " \n",
              " [60000 rows x 2 columns], 7.176831504691759)"
            ]
          },
          "metadata": {},
          "execution_count": 32
        },
        {
          "output_type": "display_data",
          "data": {
            "text/plain": [
              "<Figure size 432x288 with 1 Axes>"
            ],
            "image/png": "[encoded data removed]"
          },
          "metadata": {
            "needs_background": "light"
          }
        }
      ]
    },
    {
      "cell_type": "code",
      "source": [
        "plot_predictions1(model3,X1_val,Y1_val)"
      ],
      "metadata": {
        "colab": {
          "base_uri": "https://localhost:8080/",
          "height": 525
        },
        "id": "P_hoZ4dpYL2p",
        "outputId": "706f052e-9f78-46c8-dbe3-8741c52b750d"
      },
      "execution_count": null,
      "outputs": [
        {
          "output_type": "execute_result",
          "data": {
            "text/plain": [
              "(      Predictions  Actuals\n",
              " 0       15.547194    14.02\n",
              " 1       14.356339    13.67\n",
              " 2       13.666394    12.27\n",
              " 3       12.306691    11.19\n",
              " 4       10.904452    10.85\n",
              " ...           ...      ...\n",
              " 4995    16.724428    18.27\n",
              " 4996    16.684389    17.85\n",
              " 4997    16.593796    16.65\n",
              " 4998    16.169844    15.85\n",
              " 4999    15.716003    15.09\n",
              " \n",
              " [5000 rows x 2 columns], 1.6602266147066715)"
            ]
          },
          "metadata": {},
          "execution_count": 33
        },
        {
          "output_type": "display_data",
          "data": {
            "text/plain": [
              "<Figure size 432x288 with 1 Axes>"
            ],
            "image/png": "[encoded data removed]"
          },
          "metadata": {
            "needs_background": "light"
          }
        }
      ]
    },
    {
      "cell_type": "code",
      "source": [
        "plot_predictions1(model3,X1_test,Y1_test)"
      ],
      "metadata": {
        "colab": {
          "base_uri": "https://localhost:8080/",
          "height": 522
        },
        "id": "5LTxm5pXYLzN",
        "outputId": "9063e2d0-49ae-4741-931b-10fb15041d70"
      },
      "execution_count": null,
      "outputs": [
        {
          "output_type": "execute_result",
          "data": {
            "text/plain": [
              "(      Predictions  Actuals\n",
              " 0       15.158954    13.99\n",
              " 1       14.184216    13.46\n",
              " 2       13.472054    12.93\n",
              " 3       12.907411    12.43\n",
              " 4       12.337866    12.17\n",
              " ...           ...      ...\n",
              " 5081    -1.460385    -0.98\n",
              " 5082    -2.935605    -1.40\n",
              " 5083    -3.290496    -2.75\n",
              " 5084    -3.242782    -2.89\n",
              " 5085    -3.028810    -3.93\n",
              " \n",
              " [5086 rows x 2 columns], 12.652005144687365)"
            ]
          },
          "metadata": {},
          "execution_count": 34
        },
        {
          "output_type": "display_data",
          "data": {
            "text/plain": [
              "<Figure size 432x288 with 1 Axes>"
            ],
            "image/png": "[encoded data removed]"
          },
          "metadata": {
            "needs_background": "light"
          }
        }
      ]
    },
    {
      "cell_type": "markdown",
      "source": [
        "# Model 4\n",
        "We will use LSTM but we will increase the number of inputs. We will take the datetime column as an input as well. "
      ],
      "metadata": {
        "id": "Ol9yl3PWZVpa"
      }
    },
    {
      "cell_type": "markdown",
      "source": [
        "But, we will convert the datetime column into 4 individual columns to better represent the periodicity of the timestamps (day and year wise). It will become clearer in next few code cells."
      ],
      "metadata": {
        "id": "rF6M3NuebOdD"
      }
    },
    {
      "cell_type": "markdown",
      "source": [
        "There is some theory about sin and cos of seconds. We are trying to create sin and cos signals out of the values of seconds.The reason has something to do with perioicity. The temperature at the end of the day is different from the middle so thats why we have sin day. And temp from December is different from June, so we have year sin and cos. All Decembers should be the same, all ends of the day should be similiar. This is to show similiarity between these times. This should wrap around."
      ],
      "metadata": {
        "id": "4d-84O26bVVJ"
      }
    },
    {
      "cell_type": "code",
      "source": [
        "temp_df = pd.DataFrame({'Temperature':df['T (degC)'],'Date Time':df['Date Time']}) # creating a new dataframe \n",
        "temp_df['Seconds']=temp_df['Date Time'].map(pd.Timestamp.timestamp)\n",
        "temp_df=temp_df.drop('Date Time',axis=1)\n",
        "temp_df.head()"
      ],
      "metadata": {
        "colab": {
          "base_uri": "https://localhost:8080/",
          "height": 206
        },
        "id": "wRWC-Zr7ZBcR",
        "outputId": "ccbacaca-31cf-420a-ef53-ea3f35b21315"
      },
      "execution_count": null,
      "outputs": [
        {
          "output_type": "execute_result",
          "data": {
            "text/plain": [
              "    Temperature       Seconds\n",
              "5         -8.05  1.230772e+09\n",
              "11        -8.88  1.230775e+09\n",
              "17        -8.81  1.230779e+09\n",
              "23        -9.05  1.230782e+09\n",
              "29        -9.63  1.230786e+09"
            ],
            "text/html": [
              "\n",
              "  <div id=\"df-d9bfbeb7-5953-445e-92db-60ab867d067a\">\n",
              "    <div class=\"colab-df-container\">\n",
              "      <div>\n",
              "<style scoped>\n",
              "    .dataframe tbody tr th:only-of-type {\n",
              "        vertical-align: middle;\n",
              "    }\n",
              "\n",
              "    .dataframe tbody tr th {\n",
              "        vertical-align: top;\n",
              "    }\n",
              "\n",
              "    .dataframe thead th {\n",
              "        text-align: right;\n",
              "    }\n",
              "</style>\n",
              "<table border=\"1\" class=\"dataframe\">\n",
              "  <thead>\n",
              "    <tr style=\"text-align: right;\">\n",
              "      <th></th>\n",
              "      <th>Temperature</th>\n",
              "      <th>Seconds</th>\n",
              "    </tr>\n",
              "  </thead>\n",
              "  <tbody>\n",
              "    <tr>\n",
              "      <th>5</th>\n",
              "      <td>-8.05</td>\n",
              "      <td>1.230772e+09</td>\n",
              "    </tr>\n",
              "    <tr>\n",
              "      <th>11</th>\n",
              "      <td>-8.88</td>\n",
              "      <td>1.230775e+09</td>\n",
              "    </tr>\n",
              "    <tr>\n",
              "      <th>17</th>\n",
              "      <td>-8.81</td>\n",
              "      <td>1.230779e+09</td>\n",
              "    </tr>\n",
              "    <tr>\n",
              "      <th>23</th>\n",
              "      <td>-9.05</td>\n",
              "      <td>1.230782e+09</td>\n",
              "    </tr>\n",
              "    <tr>\n",
              "      <th>29</th>\n",
              "      <td>-9.63</td>\n",
              "      <td>1.230786e+09</td>\n",
              "    </tr>\n",
              "  </tbody>\n",
              "</table>\n",
              "</div>\n",
              "      <button class=\"colab-df-convert\" onclick=\"convertToInteractive('df-d9bfbeb7-5953-445e-92db-60ab867d067a')\"\n",
              "              title=\"Convert this dataframe to an interactive table.\"\n",
              "              style=\"display:none;\">\n",
              "        \n",
              "  <svg xmlns=\"http://www.w3.org/2000/svg\" height=\"24px\"viewBox=\"0 0 24 24\"\n",
              "       width=\"24px\">\n",
              "    <path d=\"M0 0h24v24H0V0z\" fill=\"none\"/>\n",
              "    <path d=\"M18.56 5.44l.94 2.06.94-2.06 2.06-.94-2.06-.94-.94-2.06-.94 2.06-2.06.94zm-11 1L8.5 8.5l.94-2.06 2.06-.94-2.06-.94L8.5 2.5l-.94 2.06-2.06.94zm10 10l.94 2.06.94-2.06 2.06-.94-2.06-.94-.94-2.06-.94 2.06-2.06.94z\"/><path d=\"M17.41 7.96l-1.37-1.37c-.4-.4-.92-.59-1.43-.59-.52 0-1.04.2-1.43.59L10.3 9.45l-7.72 7.72c-.78.78-.78 2.05 0 2.83L4 21.41c.39.39.9.59 1.41.59.51 0 1.02-.2 1.41-.59l7.78-7.78 2.81-2.81c.8-.78.8-2.07 0-2.86zM5.41 20L4 18.59l7.72-7.72 1.47 1.35L5.41 20z\"/>\n",
              "  </svg>\n",
              "      </button>\n",
              "      \n",
              "  <style>\n",
              "    .colab-df-container {\n",
              "      display:flex;\n",
              "      flex-wrap:wrap;\n",
              "      gap: 12px;\n",
              "    }\n",
              "\n",
              "    .colab-df-convert {\n",
              "      background-color: #E8F0FE;\n",
              "      border: none;\n",
              "      border-radius: 50%;\n",
              "      cursor: pointer;\n",
              "      display: none;\n",
              "      fill: #1967D2;\n",
              "      height: 32px;\n",
              "      padding: 0 0 0 0;\n",
              "      width: 32px;\n",
              "    }\n",
              "\n",
              "    .colab-df-convert:hover {\n",
              "      background-color: #E2EBFA;\n",
              "      box-shadow: 0px 1px 2px rgba(60, 64, 67, 0.3), 0px 1px 3px 1px rgba(60, 64, 67, 0.15);\n",
              "      fill: #174EA6;\n",
              "    }\n",
              "\n",
              "    [theme=dark] .colab-df-convert {\n",
              "      background-color: #3B4455;\n",
              "      fill: #D2E3FC;\n",
              "    }\n",
              "\n",
              "    [theme=dark] .colab-df-convert:hover {\n",
              "      background-color: #434B5C;\n",
              "      box-shadow: 0px 1px 3px 1px rgba(0, 0, 0, 0.15);\n",
              "      filter: drop-shadow(0px 1px 2px rgba(0, 0, 0, 0.3));\n",
              "      fill: #FFFFFF;\n",
              "    }\n",
              "  </style>\n",
              "\n",
              "      <script>\n",
              "        const buttonEl =\n",
              "          document.querySelector('#df-d9bfbeb7-5953-445e-92db-60ab867d067a button.colab-df-convert');\n",
              "        buttonEl.style.display =\n",
              "          google.colab.kernel.accessAllowed ? 'block' : 'none';\n",
              "\n",
              "        async function convertToInteractive(key) {\n",
              "          const element = document.querySelector('#df-d9bfbeb7-5953-445e-92db-60ab867d067a');\n",
              "          const dataTable =\n",
              "            await google.colab.kernel.invokeFunction('convertToInteractive',\n",
              "                                                     [key], {});\n",
              "          if (!dataTable) return;\n",
              "\n",
              "          const docLinkHtml = 'Like what you see? Visit the ' +\n",
              "            '<a target=\"_blank\" href=https://colab.research.google.com/notebooks/data_table.ipynb>data table notebook</a>'\n",
              "            + ' to learn more about interactive tables.';\n",
              "          element.innerHTML = '';\n",
              "          dataTable['output_type'] = 'display_data';\n",
              "          await google.colab.output.renderOutput(dataTable, element);\n",
              "          const docLink = document.createElement('div');\n",
              "          docLink.innerHTML = docLinkHtml;\n",
              "          element.appendChild(docLink);\n",
              "        }\n",
              "      </script>\n",
              "    </div>\n",
              "  </div>\n",
              "  "
            ]
          },
          "metadata": {},
          "execution_count": 35
        }
      ]
    },
    {
      "cell_type": "markdown",
      "source": [
        "Now we will make the 4 new columns."
      ],
      "metadata": {
        "id": "x5QdJY3YePSg"
      }
    },
    {
      "cell_type": "code",
      "source": [
        "day = 60*60*24 # seconds in a day\n",
        "year = 365.2425 * day # seconds in a year\n",
        "\n",
        "temp_df['Day_sin'] = np.sin(temp_df['Seconds'] * 2 * np.pi/day)\n",
        "temp_df['Day cos'] = np.cos(temp_df['Seconds'] * (2 * np.pi / day))\n",
        "temp_df['Year sin'] = np.sin(temp_df['Seconds'] * (2 * np.pi / year))\n",
        "temp_df['Year cos'] = np.cos(temp_df['Seconds'] * (2 * np.pi / year))\n",
        "temp_df = temp_df.drop('Seconds',axis=1)\n",
        "temp_df.head()"
      ],
      "metadata": {
        "colab": {
          "base_uri": "https://localhost:8080/",
          "height": 206
        },
        "id": "s1cd9ybAYLxE",
        "outputId": "c731f964-058a-417b-e901-62f4463e9062"
      },
      "execution_count": null,
      "outputs": [
        {
          "output_type": "execute_result",
          "data": {
            "text/plain": [
              "    Temperature   Day_sin   Day cos  Year sin  Year cos\n",
              "5         -8.05  0.258819  0.965926  0.010049  0.999950\n",
              "11        -8.88  0.500000  0.866025  0.010766  0.999942\n",
              "17        -8.81  0.707107  0.707107  0.011483  0.999934\n",
              "23        -9.05  0.866025  0.500000  0.012199  0.999926\n",
              "29        -9.63  0.965926  0.258819  0.012916  0.999917"
            ],
            "text/html": [
              "\n",
              "  <div id=\"df-d730554d-48c7-4c1e-91b2-dd7150f46800\">\n",
              "    <div class=\"colab-df-container\">\n",
              "      <div>\n",
              "<style scoped>\n",
              "    .dataframe tbody tr th:only-of-type {\n",
              "        vertical-align: middle;\n",
              "    }\n",
              "\n",
              "    .dataframe tbody tr th {\n",
              "        vertical-align: top;\n",
              "    }\n",
              "\n",
              "    .dataframe thead th {\n",
              "        text-align: right;\n",
              "    }\n",
              "</style>\n",
              "<table border=\"1\" class=\"dataframe\">\n",
              "  <thead>\n",
              "    <tr style=\"text-align: right;\">\n",
              "      <th></th>\n",
              "      <th>Temperature</th>\n",
              "      <th>Day_sin</th>\n",
              "      <th>Day cos</th>\n",
              "      <th>Year sin</th>\n",
              "      <th>Year cos</th>\n",
              "    </tr>\n",
              "  </thead>\n",
              "  <tbody>\n",
              "    <tr>\n",
              "      <th>5</th>\n",
              "      <td>-8.05</td>\n",
              "      <td>0.258819</td>\n",
              "      <td>0.965926</td>\n",
              "      <td>0.010049</td>\n",
              "      <td>0.999950</td>\n",
              "    </tr>\n",
              "    <tr>\n",
              "      <th>11</th>\n",
              "      <td>-8.88</td>\n",
              "      <td>0.500000</td>\n",
              "      <td>0.866025</td>\n",
              "      <td>0.010766</td>\n",
              "      <td>0.999942</td>\n",
              "    </tr>\n",
              "    <tr>\n",
              "      <th>17</th>\n",
              "      <td>-8.81</td>\n",
              "      <td>0.707107</td>\n",
              "      <td>0.707107</td>\n",
              "      <td>0.011483</td>\n",
              "      <td>0.999934</td>\n",
              "    </tr>\n",
              "    <tr>\n",
              "      <th>23</th>\n",
              "      <td>-9.05</td>\n",
              "      <td>0.866025</td>\n",
              "      <td>0.500000</td>\n",
              "      <td>0.012199</td>\n",
              "      <td>0.999926</td>\n",
              "    </tr>\n",
              "    <tr>\n",
              "      <th>29</th>\n",
              "      <td>-9.63</td>\n",
              "      <td>0.965926</td>\n",
              "      <td>0.258819</td>\n",
              "      <td>0.012916</td>\n",
              "      <td>0.999917</td>\n",
              "    </tr>\n",
              "  </tbody>\n",
              "</table>\n",
              "</div>\n",
              "      <button class=\"colab-df-convert\" onclick=\"convertToInteractive('df-d730554d-48c7-4c1e-91b2-dd7150f46800')\"\n",
              "              title=\"Convert this dataframe to an interactive table.\"\n",
              "              style=\"display:none;\">\n",
              "        \n",
              "  <svg xmlns=\"http://www.w3.org/2000/svg\" height=\"24px\"viewBox=\"0 0 24 24\"\n",
              "       width=\"24px\">\n",
              "    <path d=\"M0 0h24v24H0V0z\" fill=\"none\"/>\n",
              "    <path d=\"M18.56 5.44l.94 2.06.94-2.06 2.06-.94-2.06-.94-.94-2.06-.94 2.06-2.06.94zm-11 1L8.5 8.5l.94-2.06 2.06-.94-2.06-.94L8.5 2.5l-.94 2.06-2.06.94zm10 10l.94 2.06.94-2.06 2.06-.94-2.06-.94-.94-2.06-.94 2.06-2.06.94z\"/><path d=\"M17.41 7.96l-1.37-1.37c-.4-.4-.92-.59-1.43-.59-.52 0-1.04.2-1.43.59L10.3 9.45l-7.72 7.72c-.78.78-.78 2.05 0 2.83L4 21.41c.39.39.9.59 1.41.59.51 0 1.02-.2 1.41-.59l7.78-7.78 2.81-2.81c.8-.78.8-2.07 0-2.86zM5.41 20L4 18.59l7.72-7.72 1.47 1.35L5.41 20z\"/>\n",
              "  </svg>\n",
              "      </button>\n",
              "      \n",
              "  <style>\n",
              "    .colab-df-container {\n",
              "      display:flex;\n",
              "      flex-wrap:wrap;\n",
              "      gap: 12px;\n",
              "    }\n",
              "\n",
              "    .colab-df-convert {\n",
              "      background-color: #E8F0FE;\n",
              "      border: none;\n",
              "      border-radius: 50%;\n",
              "      cursor: pointer;\n",
              "      display: none;\n",
              "      fill: #1967D2;\n",
              "      height: 32px;\n",
              "      padding: 0 0 0 0;\n",
              "      width: 32px;\n",
              "    }\n",
              "\n",
              "    .colab-df-convert:hover {\n",
              "      background-color: #E2EBFA;\n",
              "      box-shadow: 0px 1px 2px rgba(60, 64, 67, 0.3), 0px 1px 3px 1px rgba(60, 64, 67, 0.15);\n",
              "      fill: #174EA6;\n",
              "    }\n",
              "\n",
              "    [theme=dark] .colab-df-convert {\n",
              "      background-color: #3B4455;\n",
              "      fill: #D2E3FC;\n",
              "    }\n",
              "\n",
              "    [theme=dark] .colab-df-convert:hover {\n",
              "      background-color: #434B5C;\n",
              "      box-shadow: 0px 1px 3px 1px rgba(0, 0, 0, 0.15);\n",
              "      filter: drop-shadow(0px 1px 2px rgba(0, 0, 0, 0.3));\n",
              "      fill: #FFFFFF;\n",
              "    }\n",
              "  </style>\n",
              "\n",
              "      <script>\n",
              "        const buttonEl =\n",
              "          document.querySelector('#df-d730554d-48c7-4c1e-91b2-dd7150f46800 button.colab-df-convert');\n",
              "        buttonEl.style.display =\n",
              "          google.colab.kernel.accessAllowed ? 'block' : 'none';\n",
              "\n",
              "        async function convertToInteractive(key) {\n",
              "          const element = document.querySelector('#df-d730554d-48c7-4c1e-91b2-dd7150f46800');\n",
              "          const dataTable =\n",
              "            await google.colab.kernel.invokeFunction('convertToInteractive',\n",
              "                                                     [key], {});\n",
              "          if (!dataTable) return;\n",
              "\n",
              "          const docLinkHtml = 'Like what you see? Visit the ' +\n",
              "            '<a target=\"_blank\" href=https://colab.research.google.com/notebooks/data_table.ipynb>data table notebook</a>'\n",
              "            + ' to learn more about interactive tables.';\n",
              "          element.innerHTML = '';\n",
              "          dataTable['output_type'] = 'display_data';\n",
              "          await google.colab.output.renderOutput(dataTable, element);\n",
              "          const docLink = document.createElement('div');\n",
              "          docLink.innerHTML = docLinkHtml;\n",
              "          element.appendChild(docLink);\n",
              "        }\n",
              "      </script>\n",
              "    </div>\n",
              "  </div>\n",
              "  "
            ]
          },
          "metadata": {},
          "execution_count": 36
        }
      ]
    },
    {
      "cell_type": "markdown",
      "source": [
        "Now the input formatting needs to drastically change, each bracket should contain information on only 1 time stamp. Let's denote day sin by ds, day cos by dc and year sin and cos by ys and yc respectively. \n",
        "<br>\n",
        "\n",
        "Then the format of the input needs to be-\n",
        "```\n",
        "\n",
        "[[[t1, ds1, dc1, ys1, yc1], [t2, ds2, dc2, ys2, yc2], [t3, ds3, dc3, ys3, yc3], [t4, ds4, dc4, ys4, yc4], [t5, ds5, dc5, ys5, yc5]]]      [t6]\n",
        "\n",
        "```\n"
      ],
      "metadata": {
        "id": "l80ON6xBeb1C"
      }
    },
    {
      "cell_type": "markdown",
      "source": [
        "Now we will have to make a custom input_formatter because the input format has changed."
      ],
      "metadata": {
        "id": "UnWE6_l4fAeQ"
      }
    },
    {
      "cell_type": "code",
      "source": [
        "def input_formatter4(df,window_size=5):   # window size means how many of the consecutive previous values are you taking\n",
        "  df_as_np = df.to_numpy() # converting dataframe to numpy\n",
        "  X = []\n",
        "  Y = []\n",
        "  for i in range(len(df_as_np)-window_size):\n",
        "    row=[r for r in df_as_np[i:i+window_size]]\n",
        "    X.append(row)\n",
        "    Y.append(df_as_np[i+5][0])\n",
        "  return np.array(X), np.array(Y)"
      ],
      "metadata": {
        "id": "lrORgTDHYLt2"
      },
      "execution_count": null,
      "outputs": []
    },
    {
      "cell_type": "code",
      "source": [
        "X4, Y4 = input_formatter4(temp_df)\n",
        "X4.shape, Y4.shape"
      ],
      "metadata": {
        "colab": {
          "base_uri": "https://localhost:8080/"
        },
        "id": "eFlQSR0YYLq5",
        "outputId": "e80bd996-4414-4280-e76c-46a7f715a51d"
      },
      "execution_count": null,
      "outputs": [
        {
          "output_type": "execute_result",
          "data": {
            "text/plain": [
              "((70086, 5, 5), (70086,))"
            ]
          },
          "metadata": {},
          "execution_count": 38
        }
      ]
    },
    {
      "cell_type": "markdown",
      "source": [
        "The input, X_train, is always in this format\n",
        "(no. of training samples, number of previous values, the no. of attributes we are using) <br>\n",
        "So these are basically tensors.\n",
        "Now dividing the data into training, validation and testing sets"
      ],
      "metadata": {
        "id": "1IX4eBw-ffR-"
      }
    },
    {
      "cell_type": "code",
      "source": [
        "X4_train,Y4_train=X4[:60000], Y4[:60000]\n",
        "X4_val, Y4_val = X4[60000:65000], Y4[60000:65000]\n",
        "X4_test, Y4_test = X4[65000:], Y4[65000:]\n",
        "print (\"Shape of the training input = \", X4_train.shape)"
      ],
      "metadata": {
        "colab": {
          "base_uri": "https://localhost:8080/"
        },
        "id": "ffdNShMAYLoU",
        "outputId": "136b7223-2060-4c88-cd7c-a4147ab0585e"
      },
      "execution_count": null,
      "outputs": [
        {
          "output_type": "stream",
          "name": "stdout",
          "text": [
            "Shape of the training input =  (60000, 5, 5)\n"
          ]
        }
      ]
    },
    {
      "cell_type": "code",
      "source": [
        "temp_df.head()"
      ],
      "metadata": {
        "colab": {
          "base_uri": "https://localhost:8080/",
          "height": 206
        },
        "id": "GsslE_faYLlt",
        "outputId": "c2293d18-891b-4566-dcae-36b14a1315c4"
      },
      "execution_count": null,
      "outputs": [
        {
          "output_type": "execute_result",
          "data": {
            "text/plain": [
              "    Temperature   Day_sin   Day cos  Year sin  Year cos\n",
              "5         -8.05  0.258819  0.965926  0.010049  0.999950\n",
              "11        -8.88  0.500000  0.866025  0.010766  0.999942\n",
              "17        -8.81  0.707107  0.707107  0.011483  0.999934\n",
              "23        -9.05  0.866025  0.500000  0.012199  0.999926\n",
              "29        -9.63  0.965926  0.258819  0.012916  0.999917"
            ],
            "text/html": [
              "\n",
              "  <div id=\"df-1e23c7fd-baa3-4f58-be71-9cb63a08165a\">\n",
              "    <div class=\"colab-df-container\">\n",
              "      <div>\n",
              "<style scoped>\n",
              "    .dataframe tbody tr th:only-of-type {\n",
              "        vertical-align: middle;\n",
              "    }\n",
              "\n",
              "    .dataframe tbody tr th {\n",
              "        vertical-align: top;\n",
              "    }\n",
              "\n",
              "    .dataframe thead th {\n",
              "        text-align: right;\n",
              "    }\n",
              "</style>\n",
              "<table border=\"1\" class=\"dataframe\">\n",
              "  <thead>\n",
              "    <tr style=\"text-align: right;\">\n",
              "      <th></th>\n",
              "      <th>Temperature</th>\n",
              "      <th>Day_sin</th>\n",
              "      <th>Day cos</th>\n",
              "      <th>Year sin</th>\n",
              "      <th>Year cos</th>\n",
              "    </tr>\n",
              "  </thead>\n",
              "  <tbody>\n",
              "    <tr>\n",
              "      <th>5</th>\n",
              "      <td>-8.05</td>\n",
              "      <td>0.258819</td>\n",
              "      <td>0.965926</td>\n",
              "      <td>0.010049</td>\n",
              "      <td>0.999950</td>\n",
              "    </tr>\n",
              "    <tr>\n",
              "      <th>11</th>\n",
              "      <td>-8.88</td>\n",
              "      <td>0.500000</td>\n",
              "      <td>0.866025</td>\n",
              "      <td>0.010766</td>\n",
              "      <td>0.999942</td>\n",
              "    </tr>\n",
              "    <tr>\n",
              "      <th>17</th>\n",
              "      <td>-8.81</td>\n",
              "      <td>0.707107</td>\n",
              "      <td>0.707107</td>\n",
              "      <td>0.011483</td>\n",
              "      <td>0.999934</td>\n",
              "    </tr>\n",
              "    <tr>\n",
              "      <th>23</th>\n",
              "      <td>-9.05</td>\n",
              "      <td>0.866025</td>\n",
              "      <td>0.500000</td>\n",
              "      <td>0.012199</td>\n",
              "      <td>0.999926</td>\n",
              "    </tr>\n",
              "    <tr>\n",
              "      <th>29</th>\n",
              "      <td>-9.63</td>\n",
              "      <td>0.965926</td>\n",
              "      <td>0.258819</td>\n",
              "      <td>0.012916</td>\n",
              "      <td>0.999917</td>\n",
              "    </tr>\n",
              "  </tbody>\n",
              "</table>\n",
              "</div>\n",
              "      <button class=\"colab-df-convert\" onclick=\"convertToInteractive('df-1e23c7fd-baa3-4f58-be71-9cb63a08165a')\"\n",
              "              title=\"Convert this dataframe to an interactive table.\"\n",
              "              style=\"display:none;\">\n",
              "        \n",
              "  <svg xmlns=\"http://www.w3.org/2000/svg\" height=\"24px\"viewBox=\"0 0 24 24\"\n",
              "       width=\"24px\">\n",
              "    <path d=\"M0 0h24v24H0V0z\" fill=\"none\"/>\n",
              "    <path d=\"M18.56 5.44l.94 2.06.94-2.06 2.06-.94-2.06-.94-.94-2.06-.94 2.06-2.06.94zm-11 1L8.5 8.5l.94-2.06 2.06-.94-2.06-.94L8.5 2.5l-.94 2.06-2.06.94zm10 10l.94 2.06.94-2.06 2.06-.94-2.06-.94-.94-2.06-.94 2.06-2.06.94z\"/><path d=\"M17.41 7.96l-1.37-1.37c-.4-.4-.92-.59-1.43-.59-.52 0-1.04.2-1.43.59L10.3 9.45l-7.72 7.72c-.78.78-.78 2.05 0 2.83L4 21.41c.39.39.9.59 1.41.59.51 0 1.02-.2 1.41-.59l7.78-7.78 2.81-2.81c.8-.78.8-2.07 0-2.86zM5.41 20L4 18.59l7.72-7.72 1.47 1.35L5.41 20z\"/>\n",
              "  </svg>\n",
              "      </button>\n",
              "      \n",
              "  <style>\n",
              "    .colab-df-container {\n",
              "      display:flex;\n",
              "      flex-wrap:wrap;\n",
              "      gap: 12px;\n",
              "    }\n",
              "\n",
              "    .colab-df-convert {\n",
              "      background-color: #E8F0FE;\n",
              "      border: none;\n",
              "      border-radius: 50%;\n",
              "      cursor: pointer;\n",
              "      display: none;\n",
              "      fill: #1967D2;\n",
              "      height: 32px;\n",
              "      padding: 0 0 0 0;\n",
              "      width: 32px;\n",
              "    }\n",
              "\n",
              "    .colab-df-convert:hover {\n",
              "      background-color: #E2EBFA;\n",
              "      box-shadow: 0px 1px 2px rgba(60, 64, 67, 0.3), 0px 1px 3px 1px rgba(60, 64, 67, 0.15);\n",
              "      fill: #174EA6;\n",
              "    }\n",
              "\n",
              "    [theme=dark] .colab-df-convert {\n",
              "      background-color: #3B4455;\n",
              "      fill: #D2E3FC;\n",
              "    }\n",
              "\n",
              "    [theme=dark] .colab-df-convert:hover {\n",
              "      background-color: #434B5C;\n",
              "      box-shadow: 0px 1px 3px 1px rgba(0, 0, 0, 0.15);\n",
              "      filter: drop-shadow(0px 1px 2px rgba(0, 0, 0, 0.3));\n",
              "      fill: #FFFFFF;\n",
              "    }\n",
              "  </style>\n",
              "\n",
              "      <script>\n",
              "        const buttonEl =\n",
              "          document.querySelector('#df-1e23c7fd-baa3-4f58-be71-9cb63a08165a button.colab-df-convert');\n",
              "        buttonEl.style.display =\n",
              "          google.colab.kernel.accessAllowed ? 'block' : 'none';\n",
              "\n",
              "        async function convertToInteractive(key) {\n",
              "          const element = document.querySelector('#df-1e23c7fd-baa3-4f58-be71-9cb63a08165a');\n",
              "          const dataTable =\n",
              "            await google.colab.kernel.invokeFunction('convertToInteractive',\n",
              "                                                     [key], {});\n",
              "          if (!dataTable) return;\n",
              "\n",
              "          const docLinkHtml = 'Like what you see? Visit the ' +\n",
              "            '<a target=\"_blank\" href=https://colab.research.google.com/notebooks/data_table.ipynb>data table notebook</a>'\n",
              "            + ' to learn more about interactive tables.';\n",
              "          element.innerHTML = '';\n",
              "          dataTable['output_type'] = 'display_data';\n",
              "          await google.colab.output.renderOutput(dataTable, element);\n",
              "          const docLink = document.createElement('div');\n",
              "          docLink.innerHTML = docLinkHtml;\n",
              "          element.appendChild(docLink);\n",
              "        }\n",
              "      </script>\n",
              "    </div>\n",
              "  </div>\n",
              "  "
            ]
          },
          "metadata": {},
          "execution_count": 40
        }
      ]
    },
    {
      "cell_type": "markdown",
      "source": [
        "We see that temperature is in a different scale than the other 4 columns so we should normalize that.\n",
        "There is a difference between standardization and normalization. Standardization makes a normal distribution curve. For that, we need mean and standard deviation of the distribution.\n",
        "Standardization is Z-Score Normalization."
      ],
      "metadata": {
        "id": "zC2BK2ctgcqJ"
      }
    },
    {
      "cell_type": "code",
      "source": [
        "temp_train_mean4 = np.mean(X4_train[:,:,0]) # We only want temperature attribute\n",
        "temp_train_std4 = np.std(X4_train[:,:,0])\n",
        "\n",
        "def preprocess4(X):\n",
        "  # We are standardizing the distribution using this formula (x-mean)/std\n",
        "  X[:,:,0] = (X[:,:,0] - temp_train_mean4) / temp_train_std4\n",
        "  return X"
      ],
      "metadata": {
        "id": "PKRvWB5UgcZM"
      },
      "execution_count": null,
      "outputs": []
    },
    {
      "cell_type": "code",
      "source": [
        "preprocess4(X4_train)\n",
        "preprocess4(X4_val) # Note that to preprocess all data, we are taking mean and std of training set.\n",
        "preprocess4(X4_test)"
      ],
      "metadata": {
        "id": "i7bBfE58gZxe",
        "colab": {
          "base_uri": "https://localhost:8080/"
        },
        "outputId": "01826602-2239-4ed1-8692-e442222e1763"
      },
      "execution_count": null,
      "outputs": [
        {
          "output_type": "execute_result",
          "data": {
            "text/plain": [
              "array([[[ 1.04010043e+00, -9.65925826e-01,  2.58819045e-01,\n",
              "          5.22877889e-01, -8.52407598e-01],\n",
              "        [ 9.90737068e-01, -8.66025404e-01,  5.00000000e-01,\n",
              "          5.22266764e-01, -8.52782169e-01],\n",
              "        [ 8.49698876e-01, -7.07106781e-01,  7.07106781e-01,\n",
              "          5.21655371e-01, -8.53156301e-01],\n",
              "        [ 7.55673415e-01, -5.00000000e-01,  8.66025404e-01,\n",
              "          5.21043709e-01, -8.53529995e-01],\n",
              "        [ 6.66349227e-01, -2.58819045e-01,  9.65925826e-01,\n",
              "          5.20431780e-01, -8.53903251e-01]],\n",
              "\n",
              "       [[ 9.90737068e-01, -8.66025404e-01,  5.00000000e-01,\n",
              "          5.22266764e-01, -8.52782169e-01],\n",
              "        [ 8.49698876e-01, -7.07106781e-01,  7.07106781e-01,\n",
              "          5.21655371e-01, -8.53156301e-01],\n",
              "        [ 7.55673415e-01, -5.00000000e-01,  8.66025404e-01,\n",
              "          5.21043709e-01, -8.53529995e-01],\n",
              "        [ 6.66349227e-01, -2.58819045e-01,  9.65925826e-01,\n",
              "          5.20431780e-01, -8.53903251e-01],\n",
              "        [ 5.37064219e-01, -7.16474371e-12,  1.00000000e+00,\n",
              "          5.19819584e-01, -8.54276068e-01]],\n",
              "\n",
              "       [[ 8.49698876e-01, -7.07106781e-01,  7.07106781e-01,\n",
              "          5.21655371e-01, -8.53156301e-01],\n",
              "        [ 7.55673415e-01, -5.00000000e-01,  8.66025404e-01,\n",
              "          5.21043709e-01, -8.53529995e-01],\n",
              "        [ 6.66349227e-01, -2.58819045e-01,  9.65925826e-01,\n",
              "          5.20431780e-01, -8.53903251e-01],\n",
              "        [ 5.37064219e-01, -7.16474371e-12,  1.00000000e+00,\n",
              "          5.19819584e-01, -8.54276068e-01],\n",
              "        [ 4.74772351e-01,  2.58819045e-01,  9.65925826e-01,\n",
              "          5.19207120e-01, -8.54648446e-01]],\n",
              "\n",
              "       ...,\n",
              "\n",
              "       [[-8.20428374e-01, -8.87010833e-01, -4.61748613e-01,\n",
              "          4.74986003e-03,  9.99988719e-01],\n",
              "        [-9.55589974e-01, -9.76296007e-01, -2.16439614e-01,\n",
              "          5.46663304e-03,  9.99985058e-01],\n",
              "        [-1.15656940e+00, -9.99048222e-01,  4.36193874e-02,\n",
              "          6.18340325e-03,  9.99980883e-01],\n",
              "        [-1.22238722e+00, -9.53716951e-01,  3.00705799e-01,\n",
              "          6.90017027e-03,  9.99976194e-01],\n",
              "        [-1.27175059e+00, -8.43391446e-01,  5.37299608e-01,\n",
              "          7.61693375e-03,  9.99970991e-01]],\n",
              "\n",
              "       [[-9.55589974e-01, -9.76296007e-01, -2.16439614e-01,\n",
              "          5.46663304e-03,  9.99985058e-01],\n",
              "        [-1.15656940e+00, -9.99048222e-01,  4.36193874e-02,\n",
              "          6.18340325e-03,  9.99980883e-01],\n",
              "        [-1.22238722e+00, -9.53716951e-01,  3.00705799e-01,\n",
              "          6.90017027e-03,  9.99976194e-01],\n",
              "        [-1.27175059e+00, -8.43391446e-01,  5.37299608e-01,\n",
              "          7.61693375e-03,  9.99970991e-01],\n",
              "        [-1.43041855e+00, -6.75590208e-01,  7.37277337e-01,\n",
              "          8.33369332e-03,  9.99965274e-01]],\n",
              "\n",
              "       [[-1.15656940e+00, -9.99048222e-01,  4.36193874e-02,\n",
              "          6.18340325e-03,  9.99980883e-01],\n",
              "        [-1.22238722e+00, -9.53716951e-01,  3.00705799e-01,\n",
              "          6.90017027e-03,  9.99976194e-01],\n",
              "        [-1.27175059e+00, -8.43391446e-01,  5.37299608e-01,\n",
              "          7.61693375e-03,  9.99970991e-01],\n",
              "        [-1.43041855e+00, -6.75590208e-01,  7.37277337e-01,\n",
              "          8.33369332e-03,  9.99965274e-01],\n",
              "        [-1.44687301e+00, -4.61748613e-01,  8.87010833e-01,\n",
              "          9.05044860e-03,  9.99959044e-01]]])"
            ]
          },
          "metadata": {},
          "execution_count": 42
        }
      ]
    },
    {
      "cell_type": "code",
      "source": [
        "model4 = Sequential()\n",
        "model4.add(InputLayer((5,5))) # Last 2 dimensions from X_train.shape (no. of previous values or timestamps, no. of variables)\n",
        "model4.add(LSTM(64))\n",
        "model4.add(Dense(8,'relu'))\n",
        "model4.add(Dense(1,'linear'))\n",
        "\n",
        "model4.summary()"
      ],
      "metadata": {
        "colab": {
          "base_uri": "https://localhost:8080/"
        },
        "id": "nzpSjtiWgZt9",
        "outputId": "e8ec836b-cb13-4abb-9981-bba2cc76c022"
      },
      "execution_count": null,
      "outputs": [
        {
          "output_type": "stream",
          "name": "stdout",
          "text": [
            "Model: \"sequential_3\"\n",
            "_________________________________________________________________\n",
            " Layer (type)                Output Shape              Param #   \n",
            "=================================================================\n",
            " lstm_1 (LSTM)               (None, 64)                17920     \n",
            "                                                                 \n",
            " dense_6 (Dense)             (None, 8)                 520       \n",
            "                                                                 \n",
            " dense_7 (Dense)             (None, 1)                 9         \n",
            "                                                                 \n",
            "=================================================================\n",
            "Total params: 18,449\n",
            "Trainable params: 18,449\n",
            "Non-trainable params: 0\n",
            "_________________________________________________________________\n"
          ]
        }
      ]
    },
    {
      "cell_type": "code",
      "source": [
        "cp4 = ModelCheckpoint('model4/',save_best_only=True)\n",
        "model4.compile(loss=MeanSquaredError(),optimizer=Adam(learning_rate=0.0001),metrics=[RootMeanSquaredError()])"
      ],
      "metadata": {
        "id": "mbZhx0ARgZq9"
      },
      "execution_count": null,
      "outputs": []
    },
    {
      "cell_type": "code",
      "source": [
        "model4.fit(X4_train, Y4_train, validation_data=(X4_val,Y4_val), \n",
        "          epochs=1, #How many runs it has had on the data\n",
        "          callbacks=[cp4]) # To make sure it calls cp after evey epoch to see if the model should be saved or not."
      ],
      "metadata": {
        "colab": {
          "base_uri": "https://localhost:8080/"
        },
        "id": "YVe4K8tvYLja",
        "outputId": "5cae8299-4d81-446e-a0b0-26311217e418"
      },
      "execution_count": null,
      "outputs": [
        {
          "output_type": "stream",
          "name": "stdout",
          "text": [
            "1875/1875 [==============================] - 16s 7ms/step - loss: 33.8292 - root_mean_squared_error: 5.8163 - val_loss: 3.6663 - val_root_mean_squared_error: 1.9147\n"
          ]
        },
        {
          "output_type": "execute_result",
          "data": {
            "text/plain": [
              "<keras.callbacks.History at 0x7fb043f4cb90>"
            ]
          },
          "metadata": {},
          "execution_count": 45
        }
      ]
    },
    {
      "cell_type": "code",
      "source": [
        "model4 = load_model('model4/')"
      ],
      "metadata": {
        "id": "Fw_nQBQLit7K"
      },
      "execution_count": null,
      "outputs": []
    },
    {
      "cell_type": "markdown",
      "source": [
        "As the format of the output has not changed, we can still use the plot_predictions1 function."
      ],
      "metadata": {
        "id": "FzTExX0Jjtm-"
      }
    },
    {
      "cell_type": "code",
      "source": [
        "plot_predictions1(model4,X4_train,Y4_train)"
      ],
      "metadata": {
        "colab": {
          "base_uri": "https://localhost:8080/",
          "height": 522
        },
        "id": "TcyD5rRRit4C",
        "outputId": "2cdb71cc-6e3d-4a65-c570-32dbdca1866c"
      },
      "execution_count": null,
      "outputs": [
        {
          "output_type": "execute_result",
          "data": {
            "text/plain": [
              "(       Predictions  Actuals\n",
              " 0        -1.762291    -9.67\n",
              " 1        -1.786525    -9.17\n",
              " 2        -1.793125    -8.10\n",
              " 3        -1.788652    -7.66\n",
              " 4        -1.771676    -7.04\n",
              " ...            ...      ...\n",
              " 59995     3.550464     6.07\n",
              " 59996     4.407929     9.88\n",
              " 59997     5.684150    13.53\n",
              " 59998     7.057270    15.43\n",
              " 59999     9.226405    15.54\n",
              " \n",
              " [60000 rows x 2 columns], 6.669953195340337)"
            ]
          },
          "metadata": {},
          "execution_count": 47
        },
        {
          "output_type": "display_data",
          "data": {
            "text/plain": [
              "<Figure size 432x288 with 1 Axes>"
            ],
            "image/png": "[encoded data removed]"
          },
          "metadata": {
            "needs_background": "light"
          }
        }
      ]
    },
    {
      "cell_type": "code",
      "source": [
        "plot_predictions1(model4,X4_val,Y4_val)"
      ],
      "metadata": {
        "colab": {
          "base_uri": "https://localhost:8080/",
          "height": 522
        },
        "id": "sZHZbjRgit1V",
        "outputId": "e975890f-8fc7-45b6-ede2-a6a097627052"
      },
      "execution_count": null,
      "outputs": [
        {
          "output_type": "execute_result",
          "data": {
            "text/plain": [
              "(      Predictions  Actuals\n",
              " 0       11.144301    14.02\n",
              " 1       13.222497    13.67\n",
              " 2       14.156156    12.27\n",
              " 3       13.711027    11.19\n",
              " 4       12.387642    10.85\n",
              " ...           ...      ...\n",
              " 4995    18.888268    18.27\n",
              " 4996    17.917643    17.85\n",
              " 4997    16.935253    16.65\n",
              " 4998    15.939479    15.85\n",
              " 4999    14.332647    15.09\n",
              " \n",
              " [5000 rows x 2 columns], 3.6662619882346386)"
            ]
          },
          "metadata": {},
          "execution_count": 48
        },
        {
          "output_type": "display_data",
          "data": {
            "text/plain": [
              "<Figure size 432x288 with 1 Axes>"
            ],
            "image/png": "[encoded data removed]"
          },
          "metadata": {
            "needs_background": "light"
          }
        }
      ]
    },
    {
      "cell_type": "code",
      "source": [
        "plot_predictions1(model4,X4_test,Y4_test)"
      ],
      "metadata": {
        "colab": {
          "base_uri": "https://localhost:8080/",
          "height": 522
        },
        "id": "Jg_BCPFBityu",
        "outputId": "12a2fdae-c3e5-458f-efcf-d1b5e7e33c78"
      },
      "execution_count": null,
      "outputs": [
        {
          "output_type": "execute_result",
          "data": {
            "text/plain": [
              "(      Predictions  Actuals\n",
              " 0       13.783872    13.99\n",
              " 1       13.214662    13.46\n",
              " 2       12.668067    12.93\n",
              " 3       12.473516    12.43\n",
              " 4       12.483472    12.17\n",
              " ...           ...      ...\n",
              " 5081     2.430585    -0.98\n",
              " 5082     1.531858    -1.40\n",
              " 5083     0.117860    -2.75\n",
              " 5084    -0.508262    -2.89\n",
              " 5085    -0.851925    -3.93\n",
              " \n",
              " [5086 rows x 2 columns], 4.754345991593774)"
            ]
          },
          "metadata": {},
          "execution_count": 49
        },
        {
          "output_type": "display_data",
          "data": {
            "text/plain": [
              "<Figure size 432x288 with 1 Axes>"
            ],
            "image/png": "[encoded data removed]"
          },
          "metadata": {
            "needs_background": "light"
          }
        }
      ]
    },
    {
      "cell_type": "markdown",
      "source": [
        "# Model 5\n",
        "LSTM with multivariate input and ouput. We will be incorporating pressure column too."
      ],
      "metadata": {
        "id": "J2zEi0HmkByF"
      }
    },
    {
      "cell_type": "code",
      "source": [
        "# Making a new df\n",
        "p_temp_df = pd.concat([df['p (mbar)'],temp_df], axis=1)\n",
        "p_temp_df.head()"
      ],
      "metadata": {
        "colab": {
          "base_uri": "https://localhost:8080/",
          "height": 206
        },
        "id": "86RT-30Zittf",
        "outputId": "0d4a467d-f66d-4992-f6f8-b02361acbd52"
      },
      "execution_count": null,
      "outputs": [
        {
          "output_type": "execute_result",
          "data": {
            "text/plain": [
              "    p (mbar)  Temperature   Day_sin   Day cos  Year sin  Year cos\n",
              "5     996.50        -8.05  0.258819  0.965926  0.010049  0.999950\n",
              "11    996.62        -8.88  0.500000  0.866025  0.010766  0.999942\n",
              "17    996.84        -8.81  0.707107  0.707107  0.011483  0.999934\n",
              "23    996.99        -9.05  0.866025  0.500000  0.012199  0.999926\n",
              "29    997.46        -9.63  0.965926  0.258819  0.012916  0.999917"
            ],
            "text/html": [
              "\n",
              "  <div id=\"df-5ac794ee-6fa6-4b1d-99ba-bb5442a8d919\">\n",
              "    <div class=\"colab-df-container\">\n",
              "      <div>\n",
              "<style scoped>\n",
              "    .dataframe tbody tr th:only-of-type {\n",
              "        vertical-align: middle;\n",
              "    }\n",
              "\n",
              "    .dataframe tbody tr th {\n",
              "        vertical-align: top;\n",
              "    }\n",
              "\n",
              "    .dataframe thead th {\n",
              "        text-align: right;\n",
              "    }\n",
              "</style>\n",
              "<table border=\"1\" class=\"dataframe\">\n",
              "  <thead>\n",
              "    <tr style=\"text-align: right;\">\n",
              "      <th></th>\n",
              "      <th>p (mbar)</th>\n",
              "      <th>Temperature</th>\n",
              "      <th>Day_sin</th>\n",
              "      <th>Day cos</th>\n",
              "      <th>Year sin</th>\n",
              "      <th>Year cos</th>\n",
              "    </tr>\n",
              "  </thead>\n",
              "  <tbody>\n",
              "    <tr>\n",
              "      <th>5</th>\n",
              "      <td>996.50</td>\n",
              "      <td>-8.05</td>\n",
              "      <td>0.258819</td>\n",
              "      <td>0.965926</td>\n",
              "      <td>0.010049</td>\n",
              "      <td>0.999950</td>\n",
              "    </tr>\n",
              "    <tr>\n",
              "      <th>11</th>\n",
              "      <td>996.62</td>\n",
              "      <td>-8.88</td>\n",
              "      <td>0.500000</td>\n",
              "      <td>0.866025</td>\n",
              "      <td>0.010766</td>\n",
              "      <td>0.999942</td>\n",
              "    </tr>\n",
              "    <tr>\n",
              "      <th>17</th>\n",
              "      <td>996.84</td>\n",
              "      <td>-8.81</td>\n",
              "      <td>0.707107</td>\n",
              "      <td>0.707107</td>\n",
              "      <td>0.011483</td>\n",
              "      <td>0.999934</td>\n",
              "    </tr>\n",
              "    <tr>\n",
              "      <th>23</th>\n",
              "      <td>996.99</td>\n",
              "      <td>-9.05</td>\n",
              "      <td>0.866025</td>\n",
              "      <td>0.500000</td>\n",
              "      <td>0.012199</td>\n",
              "      <td>0.999926</td>\n",
              "    </tr>\n",
              "    <tr>\n",
              "      <th>29</th>\n",
              "      <td>997.46</td>\n",
              "      <td>-9.63</td>\n",
              "      <td>0.965926</td>\n",
              "      <td>0.258819</td>\n",
              "      <td>0.012916</td>\n",
              "      <td>0.999917</td>\n",
              "    </tr>\n",
              "  </tbody>\n",
              "</table>\n",
              "</div>\n",
              "      <button class=\"colab-df-convert\" onclick=\"convertToInteractive('df-5ac794ee-6fa6-4b1d-99ba-bb5442a8d919')\"\n",
              "              title=\"Convert this dataframe to an interactive table.\"\n",
              "              style=\"display:none;\">\n",
              "        \n",
              "  <svg xmlns=\"http://www.w3.org/2000/svg\" height=\"24px\"viewBox=\"0 0 24 24\"\n",
              "       width=\"24px\">\n",
              "    <path d=\"M0 0h24v24H0V0z\" fill=\"none\"/>\n",
              "    <path d=\"M18.56 5.44l.94 2.06.94-2.06 2.06-.94-2.06-.94-.94-2.06-.94 2.06-2.06.94zm-11 1L8.5 8.5l.94-2.06 2.06-.94-2.06-.94L8.5 2.5l-.94 2.06-2.06.94zm10 10l.94 2.06.94-2.06 2.06-.94-2.06-.94-.94-2.06-.94 2.06-2.06.94z\"/><path d=\"M17.41 7.96l-1.37-1.37c-.4-.4-.92-.59-1.43-.59-.52 0-1.04.2-1.43.59L10.3 9.45l-7.72 7.72c-.78.78-.78 2.05 0 2.83L4 21.41c.39.39.9.59 1.41.59.51 0 1.02-.2 1.41-.59l7.78-7.78 2.81-2.81c.8-.78.8-2.07 0-2.86zM5.41 20L4 18.59l7.72-7.72 1.47 1.35L5.41 20z\"/>\n",
              "  </svg>\n",
              "      </button>\n",
              "      \n",
              "  <style>\n",
              "    .colab-df-container {\n",
              "      display:flex;\n",
              "      flex-wrap:wrap;\n",
              "      gap: 12px;\n",
              "    }\n",
              "\n",
              "    .colab-df-convert {\n",
              "      background-color: #E8F0FE;\n",
              "      border: none;\n",
              "      border-radius: 50%;\n",
              "      cursor: pointer;\n",
              "      display: none;\n",
              "      fill: #1967D2;\n",
              "      height: 32px;\n",
              "      padding: 0 0 0 0;\n",
              "      width: 32px;\n",
              "    }\n",
              "\n",
              "    .colab-df-convert:hover {\n",
              "      background-color: #E2EBFA;\n",
              "      box-shadow: 0px 1px 2px rgba(60, 64, 67, 0.3), 0px 1px 3px 1px rgba(60, 64, 67, 0.15);\n",
              "      fill: #174EA6;\n",
              "    }\n",
              "\n",
              "    [theme=dark] .colab-df-convert {\n",
              "      background-color: #3B4455;\n",
              "      fill: #D2E3FC;\n",
              "    }\n",
              "\n",
              "    [theme=dark] .colab-df-convert:hover {\n",
              "      background-color: #434B5C;\n",
              "      box-shadow: 0px 1px 3px 1px rgba(0, 0, 0, 0.15);\n",
              "      filter: drop-shadow(0px 1px 2px rgba(0, 0, 0, 0.3));\n",
              "      fill: #FFFFFF;\n",
              "    }\n",
              "  </style>\n",
              "\n",
              "      <script>\n",
              "        const buttonEl =\n",
              "          document.querySelector('#df-5ac794ee-6fa6-4b1d-99ba-bb5442a8d919 button.colab-df-convert');\n",
              "        buttonEl.style.display =\n",
              "          google.colab.kernel.accessAllowed ? 'block' : 'none';\n",
              "\n",
              "        async function convertToInteractive(key) {\n",
              "          const element = document.querySelector('#df-5ac794ee-6fa6-4b1d-99ba-bb5442a8d919');\n",
              "          const dataTable =\n",
              "            await google.colab.kernel.invokeFunction('convertToInteractive',\n",
              "                                                     [key], {});\n",
              "          if (!dataTable) return;\n",
              "\n",
              "          const docLinkHtml = 'Like what you see? Visit the ' +\n",
              "            '<a target=\"_blank\" href=https://colab.research.google.com/notebooks/data_table.ipynb>data table notebook</a>'\n",
              "            + ' to learn more about interactive tables.';\n",
              "          element.innerHTML = '';\n",
              "          dataTable['output_type'] = 'display_data';\n",
              "          await google.colab.output.renderOutput(dataTable, element);\n",
              "          const docLink = document.createElement('div');\n",
              "          docLink.innerHTML = docLinkHtml;\n",
              "          element.appendChild(docLink);\n",
              "        }\n",
              "      </script>\n",
              "    </div>\n",
              "  </div>\n",
              "  "
            ]
          },
          "metadata": {},
          "execution_count": 50
        }
      ]
    },
    {
      "cell_type": "markdown",
      "source": [
        "The format of the input has again changed thus the input formatter would need to be changed."
      ],
      "metadata": {
        "id": "jojk9dEHlcH8"
      }
    },
    {
      "cell_type": "code",
      "source": [
        "def input_formatter5(df,window_size=5):   #window size means how many of the consecutive previous values are you taking\n",
        "  df_as_np = df.to_numpy() #converting dataframe to numpy\n",
        "  X = []\n",
        "  Y = []\n",
        "  for i in range(len(df_as_np)-window_size):\n",
        "    row=[r for r in df_as_np[i:i+window_size]]\n",
        "    X.append(row)\n",
        "    Y.append([df_as_np[i+5][0], df_as_np[i+5][1]]) # adding pressure as a label now\n",
        "  return np.array(X), np.array(Y)"
      ],
      "metadata": {
        "id": "PSKoKZv1itq6"
      },
      "execution_count": null,
      "outputs": []
    },
    {
      "cell_type": "code",
      "source": [
        "X5, Y5 = input_formatter5(p_temp_df)\n",
        "X5.shape, Y5.shape"
      ],
      "metadata": {
        "colab": {
          "base_uri": "https://localhost:8080/"
        },
        "id": "kDMZcUveitoV",
        "outputId": "aeba5b32-d538-43cf-eedb-b885b3e5b98b"
      },
      "execution_count": null,
      "outputs": [
        {
          "output_type": "execute_result",
          "data": {
            "text/plain": [
              "((70086, 5, 6), (70086, 2))"
            ]
          },
          "metadata": {},
          "execution_count": 52
        }
      ]
    },
    {
      "cell_type": "code",
      "source": [
        "X5_train,Y5_train=X5[:60000], Y5[:60000]\n",
        "X5_val, Y5_val = X5[60000:65000], Y5[60000:65000]\n",
        "X5_test, Y5_test = X5[65000:], Y5[65000:]\n",
        "print (\"Shape of the training input = \", X5_train.shape)"
      ],
      "metadata": {
        "colab": {
          "base_uri": "https://localhost:8080/"
        },
        "id": "QEIFCcZtitlx",
        "outputId": "962e9a0a-79f6-4122-a56a-e3cb25aeb353"
      },
      "execution_count": null,
      "outputs": [
        {
          "output_type": "stream",
          "name": "stdout",
          "text": [
            "Shape of the training input =  (60000, 5, 6)\n"
          ]
        }
      ]
    },
    {
      "cell_type": "code",
      "source": [
        "p_temp_df.head()"
      ],
      "metadata": {
        "colab": {
          "base_uri": "https://localhost:8080/",
          "height": 206
        },
        "id": "tLY3-y5Vl2dq",
        "outputId": "b09f89ce-856c-4bc2-bf55-0649ebbe3067"
      },
      "execution_count": null,
      "outputs": [
        {
          "output_type": "execute_result",
          "data": {
            "text/plain": [
              "    p (mbar)  Temperature   Day_sin   Day cos  Year sin  Year cos\n",
              "5     996.50        -8.05  0.258819  0.965926  0.010049  0.999950\n",
              "11    996.62        -8.88  0.500000  0.866025  0.010766  0.999942\n",
              "17    996.84        -8.81  0.707107  0.707107  0.011483  0.999934\n",
              "23    996.99        -9.05  0.866025  0.500000  0.012199  0.999926\n",
              "29    997.46        -9.63  0.965926  0.258819  0.012916  0.999917"
            ],
            "text/html": [
              "\n",
              "  <div id=\"df-2e0d3e09-cc2b-4ae1-ac58-9e5cd17930a6\">\n",
              "    <div class=\"colab-df-container\">\n",
              "      <div>\n",
              "<style scoped>\n",
              "    .dataframe tbody tr th:only-of-type {\n",
              "        vertical-align: middle;\n",
              "    }\n",
              "\n",
              "    .dataframe tbody tr th {\n",
              "        vertical-align: top;\n",
              "    }\n",
              "\n",
              "    .dataframe thead th {\n",
              "        text-align: right;\n",
              "    }\n",
              "</style>\n",
              "<table border=\"1\" class=\"dataframe\">\n",
              "  <thead>\n",
              "    <tr style=\"text-align: right;\">\n",
              "      <th></th>\n",
              "      <th>p (mbar)</th>\n",
              "      <th>Temperature</th>\n",
              "      <th>Day_sin</th>\n",
              "      <th>Day cos</th>\n",
              "      <th>Year sin</th>\n",
              "      <th>Year cos</th>\n",
              "    </tr>\n",
              "  </thead>\n",
              "  <tbody>\n",
              "    <tr>\n",
              "      <th>5</th>\n",
              "      <td>996.50</td>\n",
              "      <td>-8.05</td>\n",
              "      <td>0.258819</td>\n",
              "      <td>0.965926</td>\n",
              "      <td>0.010049</td>\n",
              "      <td>0.999950</td>\n",
              "    </tr>\n",
              "    <tr>\n",
              "      <th>11</th>\n",
              "      <td>996.62</td>\n",
              "      <td>-8.88</td>\n",
              "      <td>0.500000</td>\n",
              "      <td>0.866025</td>\n",
              "      <td>0.010766</td>\n",
              "      <td>0.999942</td>\n",
              "    </tr>\n",
              "    <tr>\n",
              "      <th>17</th>\n",
              "      <td>996.84</td>\n",
              "      <td>-8.81</td>\n",
              "      <td>0.707107</td>\n",
              "      <td>0.707107</td>\n",
              "      <td>0.011483</td>\n",
              "      <td>0.999934</td>\n",
              "    </tr>\n",
              "    <tr>\n",
              "      <th>23</th>\n",
              "      <td>996.99</td>\n",
              "      <td>-9.05</td>\n",
              "      <td>0.866025</td>\n",
              "      <td>0.500000</td>\n",
              "      <td>0.012199</td>\n",
              "      <td>0.999926</td>\n",
              "    </tr>\n",
              "    <tr>\n",
              "      <th>29</th>\n",
              "      <td>997.46</td>\n",
              "      <td>-9.63</td>\n",
              "      <td>0.965926</td>\n",
              "      <td>0.258819</td>\n",
              "      <td>0.012916</td>\n",
              "      <td>0.999917</td>\n",
              "    </tr>\n",
              "  </tbody>\n",
              "</table>\n",
              "</div>\n",
              "      <button class=\"colab-df-convert\" onclick=\"convertToInteractive('df-2e0d3e09-cc2b-4ae1-ac58-9e5cd17930a6')\"\n",
              "              title=\"Convert this dataframe to an interactive table.\"\n",
              "              style=\"display:none;\">\n",
              "        \n",
              "  <svg xmlns=\"http://www.w3.org/2000/svg\" height=\"24px\"viewBox=\"0 0 24 24\"\n",
              "       width=\"24px\">\n",
              "    <path d=\"M0 0h24v24H0V0z\" fill=\"none\"/>\n",
              "    <path d=\"M18.56 5.44l.94 2.06.94-2.06 2.06-.94-2.06-.94-.94-2.06-.94 2.06-2.06.94zm-11 1L8.5 8.5l.94-2.06 2.06-.94-2.06-.94L8.5 2.5l-.94 2.06-2.06.94zm10 10l.94 2.06.94-2.06 2.06-.94-2.06-.94-.94-2.06-.94 2.06-2.06.94z\"/><path d=\"M17.41 7.96l-1.37-1.37c-.4-.4-.92-.59-1.43-.59-.52 0-1.04.2-1.43.59L10.3 9.45l-7.72 7.72c-.78.78-.78 2.05 0 2.83L4 21.41c.39.39.9.59 1.41.59.51 0 1.02-.2 1.41-.59l7.78-7.78 2.81-2.81c.8-.78.8-2.07 0-2.86zM5.41 20L4 18.59l7.72-7.72 1.47 1.35L5.41 20z\"/>\n",
              "  </svg>\n",
              "      </button>\n",
              "      \n",
              "  <style>\n",
              "    .colab-df-container {\n",
              "      display:flex;\n",
              "      flex-wrap:wrap;\n",
              "      gap: 12px;\n",
              "    }\n",
              "\n",
              "    .colab-df-convert {\n",
              "      background-color: #E8F0FE;\n",
              "      border: none;\n",
              "      border-radius: 50%;\n",
              "      cursor: pointer;\n",
              "      display: none;\n",
              "      fill: #1967D2;\n",
              "      height: 32px;\n",
              "      padding: 0 0 0 0;\n",
              "      width: 32px;\n",
              "    }\n",
              "\n",
              "    .colab-df-convert:hover {\n",
              "      background-color: #E2EBFA;\n",
              "      box-shadow: 0px 1px 2px rgba(60, 64, 67, 0.3), 0px 1px 3px 1px rgba(60, 64, 67, 0.15);\n",
              "      fill: #174EA6;\n",
              "    }\n",
              "\n",
              "    [theme=dark] .colab-df-convert {\n",
              "      background-color: #3B4455;\n",
              "      fill: #D2E3FC;\n",
              "    }\n",
              "\n",
              "    [theme=dark] .colab-df-convert:hover {\n",
              "      background-color: #434B5C;\n",
              "      box-shadow: 0px 1px 3px 1px rgba(0, 0, 0, 0.15);\n",
              "      filter: drop-shadow(0px 1px 2px rgba(0, 0, 0, 0.3));\n",
              "      fill: #FFFFFF;\n",
              "    }\n",
              "  </style>\n",
              "\n",
              "      <script>\n",
              "        const buttonEl =\n",
              "          document.querySelector('#df-2e0d3e09-cc2b-4ae1-ac58-9e5cd17930a6 button.colab-df-convert');\n",
              "        buttonEl.style.display =\n",
              "          google.colab.kernel.accessAllowed ? 'block' : 'none';\n",
              "\n",
              "        async function convertToInteractive(key) {\n",
              "          const element = document.querySelector('#df-2e0d3e09-cc2b-4ae1-ac58-9e5cd17930a6');\n",
              "          const dataTable =\n",
              "            await google.colab.kernel.invokeFunction('convertToInteractive',\n",
              "                                                     [key], {});\n",
              "          if (!dataTable) return;\n",
              "\n",
              "          const docLinkHtml = 'Like what you see? Visit the ' +\n",
              "            '<a target=\"_blank\" href=https://colab.research.google.com/notebooks/data_table.ipynb>data table notebook</a>'\n",
              "            + ' to learn more about interactive tables.';\n",
              "          element.innerHTML = '';\n",
              "          dataTable['output_type'] = 'display_data';\n",
              "          await google.colab.output.renderOutput(dataTable, element);\n",
              "          const docLink = document.createElement('div');\n",
              "          docLink.innerHTML = docLinkHtml;\n",
              "          element.appendChild(docLink);\n",
              "        }\n",
              "      </script>\n",
              "    </div>\n",
              "  </div>\n",
              "  "
            ]
          },
          "metadata": {},
          "execution_count": 54
        }
      ]
    },
    {
      "cell_type": "markdown",
      "source": [
        "We will be standardizing the data as done in model 4."
      ],
      "metadata": {
        "id": "ku6noWJdlxky"
      }
    },
    {
      "cell_type": "code",
      "source": [
        "temp_train_mean5 = np.mean(X5_train[:,:,1]) # This is the same as temp_train_mean4 but still defined here for clarity\n",
        "temp_train_std5 = np.std(X5_train[:,:,1])\n",
        "\n",
        "p_train_mean5 = np.mean(X5_train[:,:,0]) # We only want pressure attribute that is 0th column\n",
        "p_train_std5 = np.std(X5_train[:,:,0])\n",
        "\n",
        "def preprocess5(X):\n",
        "  # We are standardizing the distribution using this formula (x-mean)/std\n",
        "  X[:,:,1] = (X[:,:,1] - temp_train_mean5) / temp_train_std5\n",
        "  X[:,:,0] = (X[:,:,0] - p_train_mean5) / p_train_std5\n",
        "  return X"
      ],
      "metadata": {
        "id": "ZpzE-oUCiti4"
      },
      "execution_count": null,
      "outputs": []
    },
    {
      "cell_type": "markdown",
      "source": [
        "Here we also decide to preprocess the output."
      ],
      "metadata": {
        "id": "-GzuC3G-nFUw"
      }
    },
    {
      "cell_type": "code",
      "source": [
        "def preprocess_output5(Y):\n",
        "  Y[:, 1] = (Y[:, 1] - temp_train_mean5) / temp_train_std5\n",
        "  Y[:, 0] = (Y[:, 0] - p_train_mean5) / p_train_std5\n",
        "  return Y"
      ],
      "metadata": {
        "id": "WksM89v1itgl"
      },
      "execution_count": null,
      "outputs": []
    },
    {
      "cell_type": "code",
      "source": [
        "preprocess5(X5_train)\n",
        "preprocess5(X5_val)\n",
        "preprocess5(X5_test)"
      ],
      "metadata": {
        "id": "j4PZ4qqvitd3",
        "colab": {
          "base_uri": "https://localhost:8080/"
        },
        "outputId": "6354937a-7317-427d-b2ba-5de13e58a3a6"
      },
      "execution_count": null,
      "outputs": [
        {
          "output_type": "execute_result",
          "data": {
            "text/plain": [
              "array([[[-1.07355724e+00,  1.04010043e+00, -9.65925826e-01,\n",
              "          2.58819045e-01,  5.22877889e-01, -8.52407598e-01],\n",
              "        [-1.00807546e+00,  9.90737068e-01, -8.66025404e-01,\n",
              "          5.00000000e-01,  5.22266764e-01, -8.52782169e-01],\n",
              "        [-9.51082068e-01,  8.49698876e-01, -7.07106781e-01,\n",
              "          7.07106781e-01,  5.21655371e-01, -8.53156301e-01],\n",
              "        [-9.14703306e-01,  7.55673415e-01, -5.00000000e-01,\n",
              "          8.66025404e-01,  5.21043709e-01, -8.53529995e-01],\n",
              "        [-8.80749794e-01,  6.66349227e-01, -2.58819045e-01,\n",
              "          9.65925826e-01,  5.20431780e-01, -8.53903251e-01]],\n",
              "\n",
              "       [[-1.00807546e+00,  9.90737068e-01, -8.66025404e-01,\n",
              "          5.00000000e-01,  5.22266764e-01, -8.52782169e-01],\n",
              "        [-9.51082068e-01,  8.49698876e-01, -7.07106781e-01,\n",
              "          7.07106781e-01,  5.21655371e-01, -8.53156301e-01],\n",
              "        [-9.14703306e-01,  7.55673415e-01, -5.00000000e-01,\n",
              "          8.66025404e-01,  5.21043709e-01, -8.53529995e-01],\n",
              "        [-8.80749794e-01,  6.66349227e-01, -2.58819045e-01,\n",
              "          9.65925826e-01,  5.20431780e-01, -8.53903251e-01],\n",
              "        [-8.29819526e-01,  5.37064219e-01, -7.16474371e-12,\n",
              "          1.00000000e+00,  5.19819584e-01, -8.54276068e-01]],\n",
              "\n",
              "       [[-9.51082068e-01,  8.49698876e-01, -7.07106781e-01,\n",
              "          7.07106781e-01,  5.21655371e-01, -8.53156301e-01],\n",
              "        [-9.14703306e-01,  7.55673415e-01, -5.00000000e-01,\n",
              "          8.66025404e-01,  5.21043709e-01, -8.53529995e-01],\n",
              "        [-8.80749794e-01,  6.66349227e-01, -2.58819045e-01,\n",
              "          9.65925826e-01,  5.20431780e-01, -8.53903251e-01],\n",
              "        [-8.29819526e-01,  5.37064219e-01, -7.16474371e-12,\n",
              "          1.00000000e+00,  5.19819584e-01, -8.54276068e-01],\n",
              "        [-8.01929142e-01,  4.74772351e-01,  2.58819045e-01,\n",
              "          9.65925826e-01,  5.19207120e-01, -8.54648446e-01]],\n",
              "\n",
              "       ...,\n",
              "\n",
              "       [[ 1.64514896e+00, -8.20428374e-01, -8.87010833e-01,\n",
              "         -4.61748613e-01,  4.74986003e-03,  9.99988719e-01],\n",
              "        [ 1.63181008e+00, -9.55589974e-01, -9.76296007e-01,\n",
              "         -2.16439614e-01,  5.46663304e-03,  9.99985058e-01],\n",
              "        [ 1.61240807e+00, -1.15656940e+00, -9.99048222e-01,\n",
              "          4.36193874e-02,  6.18340325e-03,  9.99980883e-01],\n",
              "        [ 1.60149444e+00, -1.22238722e+00, -9.53716951e-01,\n",
              "          3.00705799e-01,  6.90017027e-03,  9.99976194e-01],\n",
              "        [ 1.50690966e+00, -1.27175059e+00, -8.43391446e-01,\n",
              "          5.37299608e-01,  7.61693375e-03,  9.99970991e-01]],\n",
              "\n",
              "       [[ 1.63181008e+00, -9.55589974e-01, -9.76296007e-01,\n",
              "         -2.16439614e-01,  5.46663304e-03,  9.99985058e-01],\n",
              "        [ 1.61240807e+00, -1.15656940e+00, -9.99048222e-01,\n",
              "          4.36193874e-02,  6.18340325e-03,  9.99980883e-01],\n",
              "        [ 1.60149444e+00, -1.22238722e+00, -9.53716951e-01,\n",
              "          3.00705799e-01,  6.90017027e-03,  9.99976194e-01],\n",
              "        [ 1.50690966e+00, -1.27175059e+00, -8.43391446e-01,\n",
              "          5.37299608e-01,  7.61693375e-03,  9.99970991e-01],\n",
              "        [ 1.48144452e+00, -1.43041855e+00, -6.75590208e-01,\n",
              "          7.37277337e-01,  8.33369332e-03,  9.99965274e-01]],\n",
              "\n",
              "       [[ 1.61240807e+00, -1.15656940e+00, -9.99048222e-01,\n",
              "          4.36193874e-02,  6.18340325e-03,  9.99980883e-01],\n",
              "        [ 1.60149444e+00, -1.22238722e+00, -9.53716951e-01,\n",
              "          3.00705799e-01,  6.90017027e-03,  9.99976194e-01],\n",
              "        [ 1.50690966e+00, -1.27175059e+00, -8.43391446e-01,\n",
              "          5.37299608e-01,  7.61693375e-03,  9.99970991e-01],\n",
              "        [ 1.48144452e+00, -1.43041855e+00, -6.75590208e-01,\n",
              "          7.37277337e-01,  8.33369332e-03,  9.99965274e-01],\n",
              "        [ 1.41596275e+00, -1.44687301e+00, -4.61748613e-01,\n",
              "          8.87010833e-01,  9.05044860e-03,  9.99959044e-01]]])"
            ]
          },
          "metadata": {},
          "execution_count": 57
        }
      ]
    },
    {
      "cell_type": "code",
      "source": [
        "preprocess_output5(Y5_train)\n",
        "preprocess_output5(Y5_val)\n",
        "preprocess_output5(Y5_test)"
      ],
      "metadata": {
        "id": "YJWsfeLUnzrN",
        "colab": {
          "base_uri": "https://localhost:8080/"
        },
        "outputId": "11e87bbf-f957-4f0a-9720-4a7976d14327"
      },
      "execution_count": null,
      "outputs": [
        {
          "output_type": "execute_result",
          "data": {
            "text/plain": [
              "array([[-0.82981953,  0.53706422],\n",
              "       [-0.80192914,  0.47477235],\n",
              "       [-0.79344076,  0.41248048],\n",
              "       ...,\n",
              "       [ 1.48144452, -1.43041855],\n",
              "       [ 1.41596275, -1.44687301],\n",
              "       [ 1.35048098, -1.56910611]])"
            ]
          },
          "metadata": {},
          "execution_count": 58
        }
      ]
    },
    {
      "cell_type": "code",
      "source": [
        "model5 = Sequential()\n",
        "model5.add(InputLayer((5,6))) # Last 2 dimensions from X_train.shape (no. of previous values or timestamps, no. of variables)\n",
        "model5.add(LSTM(64))\n",
        "model5.add(Dense(8,'relu'))\n",
        "model5.add(Dense(2,'linear')) # Notice how this has changed to 2 instead of 1 as we are predicting 2 variables now.\n",
        "\n",
        "model5.summary()"
      ],
      "metadata": {
        "colab": {
          "base_uri": "https://localhost:8080/"
        },
        "id": "tpfZHmpNn8sN",
        "outputId": "967fa8f7-5050-4902-9acb-a827564a2926"
      },
      "execution_count": null,
      "outputs": [
        {
          "output_type": "stream",
          "name": "stdout",
          "text": [
            "Model: \"sequential_4\"\n",
            "_________________________________________________________________\n",
            " Layer (type)                Output Shape              Param #   \n",
            "=================================================================\n",
            " lstm_2 (LSTM)               (None, 64)                18176     \n",
            "                                                                 \n",
            " dense_8 (Dense)             (None, 8)                 520       \n",
            "                                                                 \n",
            " dense_9 (Dense)             (None, 2)                 18        \n",
            "                                                                 \n",
            "=================================================================\n",
            "Total params: 18,714\n",
            "Trainable params: 18,714\n",
            "Non-trainable params: 0\n",
            "_________________________________________________________________\n"
          ]
        }
      ]
    },
    {
      "cell_type": "code",
      "source": [
        "cp5 = ModelCheckpoint('model5/',save_best_only=True)\n",
        "model5.compile(loss=MeanSquaredError(),optimizer=Adam(learning_rate=0.0001),metrics=[RootMeanSquaredError()])"
      ],
      "metadata": {
        "id": "H9zpOXMKn8pQ"
      },
      "execution_count": null,
      "outputs": []
    },
    {
      "cell_type": "code",
      "source": [
        "model5.fit(X5_train, Y5_train, validation_data=(X5_val,Y5_val), \n",
        "          epochs=1, #How many runs it has had on the data\n",
        "          callbacks=[cp5]) # To make sure it calls cp after evey epoch to see if the model should be saved or not."
      ],
      "metadata": {
        "colab": {
          "base_uri": "https://localhost:8080/"
        },
        "id": "aC91XPdRn8mp",
        "outputId": "5ce6149c-c429-4bec-80db-99bc4b831dd1"
      },
      "execution_count": null,
      "outputs": [
        {
          "output_type": "stream",
          "name": "stdout",
          "text": [
            "1875/1875 [==============================] - 16s 8ms/step - loss: 0.2915 - root_mean_squared_error: 0.5399 - val_loss: 0.0300 - val_root_mean_squared_error: 0.1732\n"
          ]
        },
        {
          "output_type": "execute_result",
          "data": {
            "text/plain": [
              "<keras.callbacks.History at 0x7fb03ef999d0>"
            ]
          },
          "metadata": {},
          "execution_count": 61
        }
      ]
    },
    {
      "cell_type": "markdown",
      "source": [
        "These functions are to convert the output back to celsius scale again."
      ],
      "metadata": {
        "id": "Fj1O3DGAqhbD"
      }
    },
    {
      "cell_type": "code",
      "source": [
        "def postprocess_temp5(arr):\n",
        "  arr = (arr*temp_train_std5) + temp_train_mean5\n",
        "  return arr\n",
        "\n",
        "\n",
        "def postprocess_p5(arr):\n",
        "  arr = (arr*p_train_std5) + p_train_mean5\n",
        "  return arr"
      ],
      "metadata": {
        "id": "cfBHFQion8fH"
      },
      "execution_count": null,
      "outputs": []
    },
    {
      "cell_type": "markdown",
      "source": [
        "Due to change in the format of the output, we need to make a new plot_predictions function."
      ],
      "metadata": {
        "id": "GL_H_9EGoegP"
      }
    },
    {
      "cell_type": "code",
      "source": [
        "def plot_predictions5 (model, X, Y ,start=0, end=100):\n",
        "  predictions = model.predict (X)\n",
        "  p_preds, temp_preds= postprocess_p5(predictions [:, 0]), postprocess_temp5(predictions [:, 1])\n",
        "  p_actuals, temp_actuals = postprocess_p5(Y[:, 0]), postprocess_temp5(Y[:, 1])\n",
        "  df = pd.DataFrame (data={'Temperature Predictions': temp_preds,\n",
        "                            'Temperature Actuals': temp_actuals,\n",
        "                            'Pressure Predictions': p_preds,\n",
        "                            'Pressure Actuals': p_actuals\n",
        "                            })\n",
        "  plt.plot(df['Temperature Predictions'][start:end])\n",
        "  plt.plot(df['Temperature Actuals'][start:end])\n",
        "  plt.plot(df['Pressure Predictions'][start:end])\n",
        "  plt.plot(df['Pressure Actuals'][start:end])\n",
        "  return df[start:end]"
      ],
      "metadata": {
        "id": "facVJhacn8kX"
      },
      "execution_count": null,
      "outputs": []
    },
    {
      "cell_type": "code",
      "source": [
        "plot_predictions5 (model5, X5_train, Y5_train)"
      ],
      "metadata": {
        "colab": {
          "base_uri": "https://localhost:8080/",
          "height": 672
        },
        "id": "LAwm0nLSqK3E",
        "outputId": "53233b05-3dbb-4940-dc08-f92d825973bf"
      },
      "execution_count": null,
      "outputs": [
        {
          "output_type": "execute_result",
          "data": {
            "text/plain": [
              "    Temperature Predictions  Temperature Actuals  Pressure Predictions  \\\n",
              "0                 -7.882555                -9.67            996.475281   \n",
              "1                 -7.964285                -9.17            996.672913   \n",
              "2                 -7.907606                -8.10            996.976929   \n",
              "3                 -7.733232                -7.66            997.323669   \n",
              "4                 -7.530724                -7.04            997.753906   \n",
              "..                      ...                  ...                   ...   \n",
              "95                -1.506033                -1.77            984.046936   \n",
              "96                -1.318646                -1.76            984.137085   \n",
              "97                -1.094604                -2.08            984.407898   \n",
              "98                -0.967840                -2.72            984.909729   \n",
              "99                -1.026735                -3.11            985.616699   \n",
              "\n",
              "    Pressure Actuals  \n",
              "0             997.71  \n",
              "1             998.33  \n",
              "2             999.17  \n",
              "3             999.69  \n",
              "4            1000.27  \n",
              "..               ...  \n",
              "95            985.57  \n",
              "96            985.97  \n",
              "97            986.79  \n",
              "98            987.67  \n",
              "99            988.42  \n",
              "\n",
              "[100 rows x 4 columns]"
            ],
            "text/html": [
              "\n",
              "  <div id=\"df-b7cb9962-3819-407e-aef3-b257f939d54d\">\n",
              "    <div class=\"colab-df-container\">\n",
              "      <div>\n",
              "<style scoped>\n",
              "    .dataframe tbody tr th:only-of-type {\n",
              "        vertical-align: middle;\n",
              "    }\n",
              "\n",
              "    .dataframe tbody tr th {\n",
              "        vertical-align: top;\n",
              "    }\n",
              "\n",
              "    .dataframe thead th {\n",
              "        text-align: right;\n",
              "    }\n",
              "</style>\n",
              "<table border=\"1\" class=\"dataframe\">\n",
              "  <thead>\n",
              "    <tr style=\"text-align: right;\">\n",
              "      <th></th>\n",
              "      <th>Temperature Predictions</th>\n",
              "      <th>Temperature Actuals</th>\n",
              "      <th>Pressure Predictions</th>\n",
              "      <th>Pressure Actuals</th>\n",
              "    </tr>\n",
              "  </thead>\n",
              "  <tbody>\n",
              "    <tr>\n",
              "      <th>0</th>\n",
              "      <td>-7.882555</td>\n",
              "      <td>-9.67</td>\n",
              "      <td>996.475281</td>\n",
              "      <td>997.71</td>\n",
              "    </tr>\n",
              "    <tr>\n",
              "      <th>1</th>\n",
              "      <td>-7.964285</td>\n",
              "      <td>-9.17</td>\n",
              "      <td>996.672913</td>\n",
              "      <td>998.33</td>\n",
              "    </tr>\n",
              "    <tr>\n",
              "      <th>2</th>\n",
              "      <td>-7.907606</td>\n",
              "      <td>-8.10</td>\n",
              "      <td>996.976929</td>\n",
              "      <td>999.17</td>\n",
              "    </tr>\n",
              "    <tr>\n",
              "      <th>3</th>\n",
              "      <td>-7.733232</td>\n",
              "      <td>-7.66</td>\n",
              "      <td>997.323669</td>\n",
              "      <td>999.69</td>\n",
              "    </tr>\n",
              "    <tr>\n",
              "      <th>4</th>\n",
              "      <td>-7.530724</td>\n",
              "      <td>-7.04</td>\n",
              "      <td>997.753906</td>\n",
              "      <td>1000.27</td>\n",
              "    </tr>\n",
              "    <tr>\n",
              "      <th>...</th>\n",
              "      <td>...</td>\n",
              "      <td>...</td>\n",
              "      <td>...</td>\n",
              "      <td>...</td>\n",
              "    </tr>\n",
              "    <tr>\n",
              "      <th>95</th>\n",
              "      <td>-1.506033</td>\n",
              "      <td>-1.77</td>\n",
              "      <td>984.046936</td>\n",
              "      <td>985.57</td>\n",
              "    </tr>\n",
              "    <tr>\n",
              "      <th>96</th>\n",
              "      <td>-1.318646</td>\n",
              "      <td>-1.76</td>\n",
              "      <td>984.137085</td>\n",
              "      <td>985.97</td>\n",
              "    </tr>\n",
              "    <tr>\n",
              "      <th>97</th>\n",
              "      <td>-1.094604</td>\n",
              "      <td>-2.08</td>\n",
              "      <td>984.407898</td>\n",
              "      <td>986.79</td>\n",
              "    </tr>\n",
              "    <tr>\n",
              "      <th>98</th>\n",
              "      <td>-0.967840</td>\n",
              "      <td>-2.72</td>\n",
              "      <td>984.909729</td>\n",
              "      <td>987.67</td>\n",
              "    </tr>\n",
              "    <tr>\n",
              "      <th>99</th>\n",
              "      <td>-1.026735</td>\n",
              "      <td>-3.11</td>\n",
              "      <td>985.616699</td>\n",
              "      <td>988.42</td>\n",
              "    </tr>\n",
              "  </tbody>\n",
              "</table>\n",
              "<p>100 rows × 4 columns</p>\n",
              "</div>\n",
              "      <button class=\"colab-df-convert\" onclick=\"convertToInteractive('df-b7cb9962-3819-407e-aef3-b257f939d54d')\"\n",
              "              title=\"Convert this dataframe to an interactive table.\"\n",
              "              style=\"display:none;\">\n",
              "        \n",
              "  <svg xmlns=\"http://www.w3.org/2000/svg\" height=\"24px\"viewBox=\"0 0 24 24\"\n",
              "       width=\"24px\">\n",
              "    <path d=\"M0 0h24v24H0V0z\" fill=\"none\"/>\n",
              "    <path d=\"M18.56 5.44l.94 2.06.94-2.06 2.06-.94-2.06-.94-.94-2.06-.94 2.06-2.06.94zm-11 1L8.5 8.5l.94-2.06 2.06-.94-2.06-.94L8.5 2.5l-.94 2.06-2.06.94zm10 10l.94 2.06.94-2.06 2.06-.94-2.06-.94-.94-2.06-.94 2.06-2.06.94z\"/><path d=\"M17.41 7.96l-1.37-1.37c-.4-.4-.92-.59-1.43-.59-.52 0-1.04.2-1.43.59L10.3 9.45l-7.72 7.72c-.78.78-.78 2.05 0 2.83L4 21.41c.39.39.9.59 1.41.59.51 0 1.02-.2 1.41-.59l7.78-7.78 2.81-2.81c.8-.78.8-2.07 0-2.86zM5.41 20L4 18.59l7.72-7.72 1.47 1.35L5.41 20z\"/>\n",
              "  </svg>\n",
              "      </button>\n",
              "      \n",
              "  <style>\n",
              "    .colab-df-container {\n",
              "      display:flex;\n",
              "      flex-wrap:wrap;\n",
              "      gap: 12px;\n",
              "    }\n",
              "\n",
              "    .colab-df-convert {\n",
              "      background-color: #E8F0FE;\n",
              "      border: none;\n",
              "      border-radius: 50%;\n",
              "      cursor: pointer;\n",
              "      display: none;\n",
              "      fill: #1967D2;\n",
              "      height: 32px;\n",
              "      padding: 0 0 0 0;\n",
              "      width: 32px;\n",
              "    }\n",
              "\n",
              "    .colab-df-convert:hover {\n",
              "      background-color: #E2EBFA;\n",
              "      box-shadow: 0px 1px 2px rgba(60, 64, 67, 0.3), 0px 1px 3px 1px rgba(60, 64, 67, 0.15);\n",
              "      fill: #174EA6;\n",
              "    }\n",
              "\n",
              "    [theme=dark] .colab-df-convert {\n",
              "      background-color: #3B4455;\n",
              "      fill: #D2E3FC;\n",
              "    }\n",
              "\n",
              "    [theme=dark] .colab-df-convert:hover {\n",
              "      background-color: #434B5C;\n",
              "      box-shadow: 0px 1px 3px 1px rgba(0, 0, 0, 0.15);\n",
              "      filter: drop-shadow(0px 1px 2px rgba(0, 0, 0, 0.3));\n",
              "      fill: #FFFFFF;\n",
              "    }\n",
              "  </style>\n",
              "\n",
              "      <script>\n",
              "        const buttonEl =\n",
              "          document.querySelector('#df-b7cb9962-3819-407e-aef3-b257f939d54d button.colab-df-convert');\n",
              "        buttonEl.style.display =\n",
              "          google.colab.kernel.accessAllowed ? 'block' : 'none';\n",
              "\n",
              "        async function convertToInteractive(key) {\n",
              "          const element = document.querySelector('#df-b7cb9962-3819-407e-aef3-b257f939d54d');\n",
              "          const dataTable =\n",
              "            await google.colab.kernel.invokeFunction('convertToInteractive',\n",
              "                                                     [key], {});\n",
              "          if (!dataTable) return;\n",
              "\n",
              "          const docLinkHtml = 'Like what you see? Visit the ' +\n",
              "            '<a target=\"_blank\" href=https://colab.research.google.com/notebooks/data_table.ipynb>data table notebook</a>'\n",
              "            + ' to learn more about interactive tables.';\n",
              "          element.innerHTML = '';\n",
              "          dataTable['output_type'] = 'display_data';\n",
              "          await google.colab.output.renderOutput(dataTable, element);\n",
              "          const docLink = document.createElement('div');\n",
              "          docLink.innerHTML = docLinkHtml;\n",
              "          element.appendChild(docLink);\n",
              "        }\n",
              "      </script>\n",
              "    </div>\n",
              "  </div>\n",
              "  "
            ]
          },
          "metadata": {},
          "execution_count": 64
        },
        {
          "output_type": "display_data",
          "data": {
            "text/plain": [
              "<Figure size 432x288 with 1 Axes>"
            ],
            "image/png": "[encoded data removed]"
          },
          "metadata": {
            "needs_background": "light"
          }
        }
      ]
    },
    {
      "cell_type": "code",
      "source": [
        "plot_predictions5 (model5, X5_val, Y5_val)"
      ],
      "metadata": {
        "colab": {
          "base_uri": "https://localhost:8080/",
          "height": 672
        },
        "id": "cKbS1uN2qKzc",
        "outputId": "fb636bce-b7a4-481d-f1b9-692cd0fa900b"
      },
      "execution_count": null,
      "outputs": [
        {
          "output_type": "execute_result",
          "data": {
            "text/plain": [
              "    Temperature Predictions  Temperature Actuals  Pressure Predictions  \\\n",
              "0                 14.287563                14.02            993.797424   \n",
              "1                 14.775419                13.67            993.837463   \n",
              "2                 14.418881                12.27            994.000854   \n",
              "3                 13.252688                11.19            994.219604   \n",
              "4                 11.767307                10.85            994.502747   \n",
              "..                      ...                  ...                   ...   \n",
              "95                16.850416                16.48           1000.807129   \n",
              "96                16.666573                15.30           1000.421021   \n",
              "97                16.088236                14.20           1000.035522   \n",
              "98                15.206514                13.27            999.654358   \n",
              "99                14.084635                12.23            999.377136   \n",
              "\n",
              "    Pressure Actuals  \n",
              "0             993.96  \n",
              "1             994.08  \n",
              "2             994.38  \n",
              "3             994.65  \n",
              "4             994.60  \n",
              "..               ...  \n",
              "95           1000.79  \n",
              "96           1000.44  \n",
              "97           1000.05  \n",
              "98            999.73  \n",
              "99            999.28  \n",
              "\n",
              "[100 rows x 4 columns]"
            ],
            "text/html": [
              "\n",
              "  <div id=\"df-4453f316-677d-4e2c-934c-22ba41967d16\">\n",
              "    <div class=\"colab-df-container\">\n",
              "      <div>\n",
              "<style scoped>\n",
              "    .dataframe tbody tr th:only-of-type {\n",
              "        vertical-align: middle;\n",
              "    }\n",
              "\n",
              "    .dataframe tbody tr th {\n",
              "        vertical-align: top;\n",
              "    }\n",
              "\n",
              "    .dataframe thead th {\n",
              "        text-align: right;\n",
              "    }\n",
              "</style>\n",
              "<table border=\"1\" class=\"dataframe\">\n",
              "  <thead>\n",
              "    <tr style=\"text-align: right;\">\n",
              "      <th></th>\n",
              "      <th>Temperature Predictions</th>\n",
              "      <th>Temperature Actuals</th>\n",
              "      <th>Pressure Predictions</th>\n",
              "      <th>Pressure Actuals</th>\n",
              "    </tr>\n",
              "  </thead>\n",
              "  <tbody>\n",
              "    <tr>\n",
              "      <th>0</th>\n",
              "      <td>14.287563</td>\n",
              "      <td>14.02</td>\n",
              "      <td>993.797424</td>\n",
              "      <td>993.96</td>\n",
              "    </tr>\n",
              "    <tr>\n",
              "      <th>1</th>\n",
              "      <td>14.775419</td>\n",
              "      <td>13.67</td>\n",
              "      <td>993.837463</td>\n",
              "      <td>994.08</td>\n",
              "    </tr>\n",
              "    <tr>\n",
              "      <th>2</th>\n",
              "      <td>14.418881</td>\n",
              "      <td>12.27</td>\n",
              "      <td>994.000854</td>\n",
              "      <td>994.38</td>\n",
              "    </tr>\n",
              "    <tr>\n",
              "      <th>3</th>\n",
              "      <td>13.252688</td>\n",
              "      <td>11.19</td>\n",
              "      <td>994.219604</td>\n",
              "      <td>994.65</td>\n",
              "    </tr>\n",
              "    <tr>\n",
              "      <th>4</th>\n",
              "      <td>11.767307</td>\n",
              "      <td>10.85</td>\n",
              "      <td>994.502747</td>\n",
              "      <td>994.60</td>\n",
              "    </tr>\n",
              "    <tr>\n",
              "      <th>...</th>\n",
              "      <td>...</td>\n",
              "      <td>...</td>\n",
              "      <td>...</td>\n",
              "      <td>...</td>\n",
              "    </tr>\n",
              "    <tr>\n",
              "      <th>95</th>\n",
              "      <td>16.850416</td>\n",
              "      <td>16.48</td>\n",
              "      <td>1000.807129</td>\n",
              "      <td>1000.79</td>\n",
              "    </tr>\n",
              "    <tr>\n",
              "      <th>96</th>\n",
              "      <td>16.666573</td>\n",
              "      <td>15.30</td>\n",
              "      <td>1000.421021</td>\n",
              "      <td>1000.44</td>\n",
              "    </tr>\n",
              "    <tr>\n",
              "      <th>97</th>\n",
              "      <td>16.088236</td>\n",
              "      <td>14.20</td>\n",
              "      <td>1000.035522</td>\n",
              "      <td>1000.05</td>\n",
              "    </tr>\n",
              "    <tr>\n",
              "      <th>98</th>\n",
              "      <td>15.206514</td>\n",
              "      <td>13.27</td>\n",
              "      <td>999.654358</td>\n",
              "      <td>999.73</td>\n",
              "    </tr>\n",
              "    <tr>\n",
              "      <th>99</th>\n",
              "      <td>14.084635</td>\n",
              "      <td>12.23</td>\n",
              "      <td>999.377136</td>\n",
              "      <td>999.28</td>\n",
              "    </tr>\n",
              "  </tbody>\n",
              "</table>\n",
              "<p>100 rows × 4 columns</p>\n",
              "</div>\n",
              "      <button class=\"colab-df-convert\" onclick=\"convertToInteractive('df-4453f316-677d-4e2c-934c-22ba41967d16')\"\n",
              "              title=\"Convert this dataframe to an interactive table.\"\n",
              "              style=\"display:none;\">\n",
              "        \n",
              "  <svg xmlns=\"http://www.w3.org/2000/svg\" height=\"24px\"viewBox=\"0 0 24 24\"\n",
              "       width=\"24px\">\n",
              "    <path d=\"M0 0h24v24H0V0z\" fill=\"none\"/>\n",
              "    <path d=\"M18.56 5.44l.94 2.06.94-2.06 2.06-.94-2.06-.94-.94-2.06-.94 2.06-2.06.94zm-11 1L8.5 8.5l.94-2.06 2.06-.94-2.06-.94L8.5 2.5l-.94 2.06-2.06.94zm10 10l.94 2.06.94-2.06 2.06-.94-2.06-.94-.94-2.06-.94 2.06-2.06.94z\"/><path d=\"M17.41 7.96l-1.37-1.37c-.4-.4-.92-.59-1.43-.59-.52 0-1.04.2-1.43.59L10.3 9.45l-7.72 7.72c-.78.78-.78 2.05 0 2.83L4 21.41c.39.39.9.59 1.41.59.51 0 1.02-.2 1.41-.59l7.78-7.78 2.81-2.81c.8-.78.8-2.07 0-2.86zM5.41 20L4 18.59l7.72-7.72 1.47 1.35L5.41 20z\"/>\n",
              "  </svg>\n",
              "      </button>\n",
              "      \n",
              "  <style>\n",
              "    .colab-df-container {\n",
              "      display:flex;\n",
              "      flex-wrap:wrap;\n",
              "      gap: 12px;\n",
              "    }\n",
              "\n",
              "    .colab-df-convert {\n",
              "      background-color: #E8F0FE;\n",
              "      border: none;\n",
              "      border-radius: 50%;\n",
              "      cursor: pointer;\n",
              "      display: none;\n",
              "      fill: #1967D2;\n",
              "      height: 32px;\n",
              "      padding: 0 0 0 0;\n",
              "      width: 32px;\n",
              "    }\n",
              "\n",
              "    .colab-df-convert:hover {\n",
              "      background-color: #E2EBFA;\n",
              "      box-shadow: 0px 1px 2px rgba(60, 64, 67, 0.3), 0px 1px 3px 1px rgba(60, 64, 67, 0.15);\n",
              "      fill: #174EA6;\n",
              "    }\n",
              "\n",
              "    [theme=dark] .colab-df-convert {\n",
              "      background-color: #3B4455;\n",
              "      fill: #D2E3FC;\n",
              "    }\n",
              "\n",
              "    [theme=dark] .colab-df-convert:hover {\n",
              "      background-color: #434B5C;\n",
              "      box-shadow: 0px 1px 3px 1px rgba(0, 0, 0, 0.15);\n",
              "      filter: drop-shadow(0px 1px 2px rgba(0, 0, 0, 0.3));\n",
              "      fill: #FFFFFF;\n",
              "    }\n",
              "  </style>\n",
              "\n",
              "      <script>\n",
              "        const buttonEl =\n",
              "          document.querySelector('#df-4453f316-677d-4e2c-934c-22ba41967d16 button.colab-df-convert');\n",
              "        buttonEl.style.display =\n",
              "          google.colab.kernel.accessAllowed ? 'block' : 'none';\n",
              "\n",
              "        async function convertToInteractive(key) {\n",
              "          const element = document.querySelector('#df-4453f316-677d-4e2c-934c-22ba41967d16');\n",
              "          const dataTable =\n",
              "            await google.colab.kernel.invokeFunction('convertToInteractive',\n",
              "                                                     [key], {});\n",
              "          if (!dataTable) return;\n",
              "\n",
              "          const docLinkHtml = 'Like what you see? Visit the ' +\n",
              "            '<a target=\"_blank\" href=https://colab.research.google.com/notebooks/data_table.ipynb>data table notebook</a>'\n",
              "            + ' to learn more about interactive tables.';\n",
              "          element.innerHTML = '';\n",
              "          dataTable['output_type'] = 'display_data';\n",
              "          await google.colab.output.renderOutput(dataTable, element);\n",
              "          const docLink = document.createElement('div');\n",
              "          docLink.innerHTML = docLinkHtml;\n",
              "          element.appendChild(docLink);\n",
              "        }\n",
              "      </script>\n",
              "    </div>\n",
              "  </div>\n",
              "  "
            ]
          },
          "metadata": {},
          "execution_count": 65
        },
        {
          "output_type": "display_data",
          "data": {
            "text/plain": [
              "<Figure size 432x288 with 1 Axes>"
            ],
            "image/png": "[encoded data removed]"
          },
          "metadata": {
            "needs_background": "light"
          }
        }
      ]
    },
    {
      "cell_type": "code",
      "source": [
        "plot_predictions5 (model5, X5_test, Y5_test)"
      ],
      "metadata": {
        "colab": {
          "base_uri": "https://localhost:8080/",
          "height": 672
        },
        "id": "SR9NdcZbn8hu",
        "outputId": "4abe99af-22ec-4c63-feb0-32fba697a164"
      },
      "execution_count": null,
      "outputs": [
        {
          "output_type": "execute_result",
          "data": {
            "text/plain": [
              "    Temperature Predictions  Temperature Actuals  Pressure Predictions  \\\n",
              "0                 14.514007                13.99            980.974365   \n",
              "1                 13.887513                13.46            981.396851   \n",
              "2                 13.334046                12.93            981.690308   \n",
              "3                 12.969467                12.43            981.900330   \n",
              "4                 12.744083                12.17            982.050903   \n",
              "..                      ...                  ...                   ...   \n",
              "95                14.533594                16.13            984.431396   \n",
              "96                14.291142                15.93            984.627441   \n",
              "97                14.100746                15.52            984.787170   \n",
              "98                14.072380                15.27            984.996643   \n",
              "99                14.183585                15.07            985.126038   \n",
              "\n",
              "    Pressure Actuals  \n",
              "0             982.13  \n",
              "1             982.36  \n",
              "2             982.43  \n",
              "3             982.68  \n",
              "4             983.02  \n",
              "..               ...  \n",
              "95            985.42  \n",
              "96            985.50  \n",
              "97            985.54  \n",
              "98            985.68  \n",
              "99            985.68  \n",
              "\n",
              "[100 rows x 4 columns]"
            ],
            "text/html": [
              "\n",
              "  <div id=\"df-f00ee366-48f2-455a-8d4a-0f813ec8b4c6\">\n",
              "    <div class=\"colab-df-container\">\n",
              "      <div>\n",
              "<style scoped>\n",
              "    .dataframe tbody tr th:only-of-type {\n",
              "        vertical-align: middle;\n",
              "    }\n",
              "\n",
              "    .dataframe tbody tr th {\n",
              "        vertical-align: top;\n",
              "    }\n",
              "\n",
              "    .dataframe thead th {\n",
              "        text-align: right;\n",
              "    }\n",
              "</style>\n",
              "<table border=\"1\" class=\"dataframe\">\n",
              "  <thead>\n",
              "    <tr style=\"text-align: right;\">\n",
              "      <th></th>\n",
              "      <th>Temperature Predictions</th>\n",
              "      <th>Temperature Actuals</th>\n",
              "      <th>Pressure Predictions</th>\n",
              "      <th>Pressure Actuals</th>\n",
              "    </tr>\n",
              "  </thead>\n",
              "  <tbody>\n",
              "    <tr>\n",
              "      <th>0</th>\n",
              "      <td>14.514007</td>\n",
              "      <td>13.99</td>\n",
              "      <td>980.974365</td>\n",
              "      <td>982.13</td>\n",
              "    </tr>\n",
              "    <tr>\n",
              "      <th>1</th>\n",
              "      <td>13.887513</td>\n",
              "      <td>13.46</td>\n",
              "      <td>981.396851</td>\n",
              "      <td>982.36</td>\n",
              "    </tr>\n",
              "    <tr>\n",
              "      <th>2</th>\n",
              "      <td>13.334046</td>\n",
              "      <td>12.93</td>\n",
              "      <td>981.690308</td>\n",
              "      <td>982.43</td>\n",
              "    </tr>\n",
              "    <tr>\n",
              "      <th>3</th>\n",
              "      <td>12.969467</td>\n",
              "      <td>12.43</td>\n",
              "      <td>981.900330</td>\n",
              "      <td>982.68</td>\n",
              "    </tr>\n",
              "    <tr>\n",
              "      <th>4</th>\n",
              "      <td>12.744083</td>\n",
              "      <td>12.17</td>\n",
              "      <td>982.050903</td>\n",
              "      <td>983.02</td>\n",
              "    </tr>\n",
              "    <tr>\n",
              "      <th>...</th>\n",
              "      <td>...</td>\n",
              "      <td>...</td>\n",
              "      <td>...</td>\n",
              "      <td>...</td>\n",
              "    </tr>\n",
              "    <tr>\n",
              "      <th>95</th>\n",
              "      <td>14.533594</td>\n",
              "      <td>16.13</td>\n",
              "      <td>984.431396</td>\n",
              "      <td>985.42</td>\n",
              "    </tr>\n",
              "    <tr>\n",
              "      <th>96</th>\n",
              "      <td>14.291142</td>\n",
              "      <td>15.93</td>\n",
              "      <td>984.627441</td>\n",
              "      <td>985.50</td>\n",
              "    </tr>\n",
              "    <tr>\n",
              "      <th>97</th>\n",
              "      <td>14.100746</td>\n",
              "      <td>15.52</td>\n",
              "      <td>984.787170</td>\n",
              "      <td>985.54</td>\n",
              "    </tr>\n",
              "    <tr>\n",
              "      <th>98</th>\n",
              "      <td>14.072380</td>\n",
              "      <td>15.27</td>\n",
              "      <td>984.996643</td>\n",
              "      <td>985.68</td>\n",
              "    </tr>\n",
              "    <tr>\n",
              "      <th>99</th>\n",
              "      <td>14.183585</td>\n",
              "      <td>15.07</td>\n",
              "      <td>985.126038</td>\n",
              "      <td>985.68</td>\n",
              "    </tr>\n",
              "  </tbody>\n",
              "</table>\n",
              "<p>100 rows × 4 columns</p>\n",
              "</div>\n",
              "      <button class=\"colab-df-convert\" onclick=\"convertToInteractive('df-f00ee366-48f2-455a-8d4a-0f813ec8b4c6')\"\n",
              "              title=\"Convert this dataframe to an interactive table.\"\n",
              "              style=\"display:none;\">\n",
              "        \n",
              "  <svg xmlns=\"http://www.w3.org/2000/svg\" height=\"24px\"viewBox=\"0 0 24 24\"\n",
              "       width=\"24px\">\n",
              "    <path d=\"M0 0h24v24H0V0z\" fill=\"none\"/>\n",
              "    <path d=\"M18.56 5.44l.94 2.06.94-2.06 2.06-.94-2.06-.94-.94-2.06-.94 2.06-2.06.94zm-11 1L8.5 8.5l.94-2.06 2.06-.94-2.06-.94L8.5 2.5l-.94 2.06-2.06.94zm10 10l.94 2.06.94-2.06 2.06-.94-2.06-.94-.94-2.06-.94 2.06-2.06.94z\"/><path d=\"M17.41 7.96l-1.37-1.37c-.4-.4-.92-.59-1.43-.59-.52 0-1.04.2-1.43.59L10.3 9.45l-7.72 7.72c-.78.78-.78 2.05 0 2.83L4 21.41c.39.39.9.59 1.41.59.51 0 1.02-.2 1.41-.59l7.78-7.78 2.81-2.81c.8-.78.8-2.07 0-2.86zM5.41 20L4 18.59l7.72-7.72 1.47 1.35L5.41 20z\"/>\n",
              "  </svg>\n",
              "      </button>\n",
              "      \n",
              "  <style>\n",
              "    .colab-df-container {\n",
              "      display:flex;\n",
              "      flex-wrap:wrap;\n",
              "      gap: 12px;\n",
              "    }\n",
              "\n",
              "    .colab-df-convert {\n",
              "      background-color: #E8F0FE;\n",
              "      border: none;\n",
              "      border-radius: 50%;\n",
              "      cursor: pointer;\n",
              "      display: none;\n",
              "      fill: #1967D2;\n",
              "      height: 32px;\n",
              "      padding: 0 0 0 0;\n",
              "      width: 32px;\n",
              "    }\n",
              "\n",
              "    .colab-df-convert:hover {\n",
              "      background-color: #E2EBFA;\n",
              "      box-shadow: 0px 1px 2px rgba(60, 64, 67, 0.3), 0px 1px 3px 1px rgba(60, 64, 67, 0.15);\n",
              "      fill: #174EA6;\n",
              "    }\n",
              "\n",
              "    [theme=dark] .colab-df-convert {\n",
              "      background-color: #3B4455;\n",
              "      fill: #D2E3FC;\n",
              "    }\n",
              "\n",
              "    [theme=dark] .colab-df-convert:hover {\n",
              "      background-color: #434B5C;\n",
              "      box-shadow: 0px 1px 3px 1px rgba(0, 0, 0, 0.15);\n",
              "      filter: drop-shadow(0px 1px 2px rgba(0, 0, 0, 0.3));\n",
              "      fill: #FFFFFF;\n",
              "    }\n",
              "  </style>\n",
              "\n",
              "      <script>\n",
              "        const buttonEl =\n",
              "          document.querySelector('#df-f00ee366-48f2-455a-8d4a-0f813ec8b4c6 button.colab-df-convert');\n",
              "        buttonEl.style.display =\n",
              "          google.colab.kernel.accessAllowed ? 'block' : 'none';\n",
              "\n",
              "        async function convertToInteractive(key) {\n",
              "          const element = document.querySelector('#df-f00ee366-48f2-455a-8d4a-0f813ec8b4c6');\n",
              "          const dataTable =\n",
              "            await google.colab.kernel.invokeFunction('convertToInteractive',\n",
              "                                                     [key], {});\n",
              "          if (!dataTable) return;\n",
              "\n",
              "          const docLinkHtml = 'Like what you see? Visit the ' +\n",
              "            '<a target=\"_blank\" href=https://colab.research.google.com/notebooks/data_table.ipynb>data table notebook</a>'\n",
              "            + ' to learn more about interactive tables.';\n",
              "          element.innerHTML = '';\n",
              "          dataTable['output_type'] = 'display_data';\n",
              "          await google.colab.output.renderOutput(dataTable, element);\n",
              "          const docLink = document.createElement('div');\n",
              "          docLink.innerHTML = docLinkHtml;\n",
              "          element.appendChild(docLink);\n",
              "        }\n",
              "      </script>\n",
              "    </div>\n",
              "  </div>\n",
              "  "
            ]
          },
          "metadata": {},
          "execution_count": 66
        },
        {
          "output_type": "display_data",
          "data": {
            "text/plain": [
              "<Figure size 432x288 with 1 Axes>"
            ],
            "image/png": "[encoded data removed]"
          },
          "metadata": {
            "needs_background": "light"
          }
        }
      ]
    },
    {
      "cell_type": "markdown",
      "source": [
        "# Comparision between the 5 models"
      ],
      "metadata": {
        "id": "YJTPq7geGkQv"
      }
    },
    {
      "cell_type": "markdown",
      "source": [
        "Before we try to compare the above 5 models, let us try to understand the values on which we will compare them.\n",
        "While training the model, we came across these values\n",
        "<br>\n",
        "\n",
        "*   No. of training Parameters\n",
        "*   RMSE - a metric\n",
        "*   Validation loss (val_loss)\n",
        "*   loss function (mse selected while compiling the model)\n",
        "\n",
        "<br>\n",
        "Now what is the difference between a metric and loss function? <br>\n",
        "The loss function is used to optimize your model. This is the function that will get minimized by the optimizer. A metric is used to judge the performance of your model. This is only for you to look at and has nothing to do with the optimization process.<br>\n",
        "The training loss indicates how well the model is fitting the training data, while the validation loss indicates how well the model fits new data.\n",
        "<br>\n",
        "No. of training parameters tells us about the complexity. RNNs will always be more complex than CNNs. \n",
        "\n",
        "\n"
      ],
      "metadata": {
        "id": "6xWv8LybDpYm"
      }
    },
    {
      "cell_type": "code",
      "source": [
        "model_desc={\"model1\":\"LSTM, input - temp, output - temp\",\"model2\":\"Conv1D, input - temp, output - temp\",\"model3\":\"GRU input - temp, output - temp\",\"model4\":\"LSTM, input - temp + sin/cos of time, output - temp\",\"model5\":\"LSTM, input - temp + pressure + sin/cos of time, output - temp + pressure\"}\n",
        "model_training = {\"model1\":\"17425\",\"model2\":\"2257\",\"model3\":\"13393\",\"model4\":\"18449\",\"model5\":\"18714\",}"
      ],
      "metadata": {
        "id": "mze7ovwxn8cl"
      },
      "execution_count": null,
      "outputs": []
    },
    {
      "cell_type": "markdown",
      "source": [
        "For the sake of simplicity, let us compare RMSE values of training, validation and testing sets for all the models."
      ],
      "metadata": {
        "id": "Hq97kFxKW9rC"
      }
    },
    {
      "cell_type": "code",
      "source": [
        "eval = pd.DataFrame()\n",
        "eval['Models'] = pd.DataFrame([i for i in model_desc])\n",
        "eval['Description'] = pd.DataFrame([model_desc[i] for i in model_desc])\n",
        "eval['No. of Training Parameters'] = pd.DataFrame([model_training[i] for i in model_training])\n",
        "training_loss_rmse = [model1.evaluate(X1_train,Y1_train),model2.evaluate(X1_train,Y1_train),model3.evaluate(X1_train,Y1_train),model4.evaluate(X4_train,Y4_train),model5.evaluate(X5_train,Y5_train)]\n",
        "validation_loss_rmse = [model1.evaluate(X1_val,Y1_val),model2.evaluate(X1_val,Y1_val),model3.evaluate(X1_val,Y1_val),model4.evaluate(X4_val,Y4_val),model5.evaluate(X5_val,Y5_val)]\n",
        "testing_loss_rmse = [model1.evaluate(X1_test,Y1_test),model2.evaluate(X1_test,Y1_test),model3.evaluate(X1_test,Y1_test),model4.evaluate(X4_test,Y4_test),model5.evaluate(X5_test,Y5_test)]\n",
        "eval['Training RMSE'] = [i[1] for i in training_loss_rmse]\n",
        "eval['Validation RMSE'] = [i[1] for i in validation_loss_rmse]\n",
        "eval['Testing RMSE'] = [i[1] for i in testing_loss_rmse]"
      ],
      "metadata": {
        "id": "nn1b6gdtn8Z_",
        "colab": {
          "base_uri": "https://localhost:8080/"
        },
        "outputId": "942e3a3f-f0fb-45ef-d856-325c09769b36"
      },
      "execution_count": null,
      "outputs": [
        {
          "output_type": "stream",
          "name": "stdout",
          "text": [
            "1875/1875 [==============================] - 6s 3ms/step - loss: 4.4016 - root_mean_squared_error: 2.0980\n",
            "1875/1875 [==============================] - 3s 2ms/step - loss: 4.9953 - root_mean_squared_error: 2.2350\n",
            "1875/1875 [==============================] - 4s 2ms/step - loss: 7.1768 - root_mean_squared_error: 2.6790\n",
            "1875/1875 [==============================] - 4s 2ms/step - loss: 6.6700 - root_mean_squared_error: 2.5826\n",
            "1875/1875 [==============================] - 5s 3ms/step - loss: 0.0336 - root_mean_squared_error: 0.1832\n",
            "157/157 [==============================] - 0s 2ms/step - loss: 1.3252 - root_mean_squared_error: 1.1512\n",
            "157/157 [==============================] - 0s 2ms/step - loss: 2.0573 - root_mean_squared_error: 1.4343\n",
            "157/157 [==============================] - 1s 3ms/step - loss: 1.6602 - root_mean_squared_error: 1.2885\n",
            "157/157 [==============================] - 1s 3ms/step - loss: 3.6663 - root_mean_squared_error: 1.9147\n",
            "157/157 [==============================] - 0s 2ms/step - loss: 0.0300 - root_mean_squared_error: 0.1732\n",
            "159/159 [==============================] - 0s 2ms/step - loss: 4.9108 - root_mean_squared_error: 2.2160\n",
            "159/159 [==============================] - 0s 2ms/step - loss: 1.8625 - root_mean_squared_error: 1.3647\n",
            "159/159 [==============================] - 0s 3ms/step - loss: 12.6520 - root_mean_squared_error: 3.5570\n",
            "159/159 [==============================] - 1s 3ms/step - loss: 4.7543 - root_mean_squared_error: 2.1804\n",
            "159/159 [==============================] - 0s 2ms/step - loss: 0.0288 - root_mean_squared_error: 0.1697\n"
          ]
        }
      ]
    },
    {
      "cell_type": "code",
      "source": [
        "eval"
      ],
      "metadata": {
        "colab": {
          "base_uri": "https://localhost:8080/",
          "height": 206
        },
        "id": "BO69iT_OO_8g",
        "outputId": "cfb3cf17-d6f1-4ba0-d344-7430826d4d69"
      },
      "execution_count": null,
      "outputs": [
        {
          "output_type": "execute_result",
          "data": {
            "text/plain": [
              "   Models                                        Description  \\\n",
              "0  model1                  LSTM, input - temp, output - temp   \n",
              "1  model2                Conv1D, input - temp, output - temp   \n",
              "2  model3                    GRU input - temp, output - temp   \n",
              "3  model4  LSTM, input - temp + sin/cos of time, output -...   \n",
              "4  model5  LSTM, input - temp + pressure + sin/cos of tim...   \n",
              "\n",
              "  No. of Training Parameters  Training RMSE  Validation RMSE  Testing RMSE  \n",
              "0                      17425       2.098004         1.151176      2.216030  \n",
              "1                       2257       2.235025         1.434341      1.364744  \n",
              "2                      13393       2.678962         1.288498      3.556966  \n",
              "3                      18449       2.582626         1.914748      2.180447  \n",
              "4                      18714       0.183245         0.173154      0.169682  "
            ],
            "text/html": [
              "\n",
              "  <div id=\"df-4cb0f6b3-e5ca-4c74-98f5-5da8c535b81e\">\n",
              "    <div class=\"colab-df-container\">\n",
              "      <div>\n",
              "<style scoped>\n",
              "    .dataframe tbody tr th:only-of-type {\n",
              "        vertical-align: middle;\n",
              "    }\n",
              "\n",
              "    .dataframe tbody tr th {\n",
              "        vertical-align: top;\n",
              "    }\n",
              "\n",
              "    .dataframe thead th {\n",
              "        text-align: right;\n",
              "    }\n",
              "</style>\n",
              "<table border=\"1\" class=\"dataframe\">\n",
              "  <thead>\n",
              "    <tr style=\"text-align: right;\">\n",
              "      <th></th>\n",
              "      <th>Models</th>\n",
              "      <th>Description</th>\n",
              "      <th>No. of Training Parameters</th>\n",
              "      <th>Training RMSE</th>\n",
              "      <th>Validation RMSE</th>\n",
              "      <th>Testing RMSE</th>\n",
              "    </tr>\n",
              "  </thead>\n",
              "  <tbody>\n",
              "    <tr>\n",
              "      <th>0</th>\n",
              "      <td>model1</td>\n",
              "      <td>LSTM, input - temp, output - temp</td>\n",
              "      <td>17425</td>\n",
              "      <td>2.098004</td>\n",
              "      <td>1.151176</td>\n",
              "      <td>2.216030</td>\n",
              "    </tr>\n",
              "    <tr>\n",
              "      <th>1</th>\n",
              "      <td>model2</td>\n",
              "      <td>Conv1D, input - temp, output - temp</td>\n",
              "      <td>2257</td>\n",
              "      <td>2.235025</td>\n",
              "      <td>1.434341</td>\n",
              "      <td>1.364744</td>\n",
              "    </tr>\n",
              "    <tr>\n",
              "      <th>2</th>\n",
              "      <td>model3</td>\n",
              "      <td>GRU input - temp, output - temp</td>\n",
              "      <td>13393</td>\n",
              "      <td>2.678962</td>\n",
              "      <td>1.288498</td>\n",
              "      <td>3.556966</td>\n",
              "    </tr>\n",
              "    <tr>\n",
              "      <th>3</th>\n",
              "      <td>model4</td>\n",
              "      <td>LSTM, input - temp + sin/cos of time, output -...</td>\n",
              "      <td>18449</td>\n",
              "      <td>2.582626</td>\n",
              "      <td>1.914748</td>\n",
              "      <td>2.180447</td>\n",
              "    </tr>\n",
              "    <tr>\n",
              "      <th>4</th>\n",
              "      <td>model5</td>\n",
              "      <td>LSTM, input - temp + pressure + sin/cos of tim...</td>\n",
              "      <td>18714</td>\n",
              "      <td>0.183245</td>\n",
              "      <td>0.173154</td>\n",
              "      <td>0.169682</td>\n",
              "    </tr>\n",
              "  </tbody>\n",
              "</table>\n",
              "</div>\n",
              "      <button class=\"colab-df-convert\" onclick=\"convertToInteractive('df-4cb0f6b3-e5ca-4c74-98f5-5da8c535b81e')\"\n",
              "              title=\"Convert this dataframe to an interactive table.\"\n",
              "              style=\"display:none;\">\n",
              "        \n",
              "  <svg xmlns=\"http://www.w3.org/2000/svg\" height=\"24px\"viewBox=\"0 0 24 24\"\n",
              "       width=\"24px\">\n",
              "    <path d=\"M0 0h24v24H0V0z\" fill=\"none\"/>\n",
              "    <path d=\"M18.56 5.44l.94 2.06.94-2.06 2.06-.94-2.06-.94-.94-2.06-.94 2.06-2.06.94zm-11 1L8.5 8.5l.94-2.06 2.06-.94-2.06-.94L8.5 2.5l-.94 2.06-2.06.94zm10 10l.94 2.06.94-2.06 2.06-.94-2.06-.94-.94-2.06-.94 2.06-2.06.94z\"/><path d=\"M17.41 7.96l-1.37-1.37c-.4-.4-.92-.59-1.43-.59-.52 0-1.04.2-1.43.59L10.3 9.45l-7.72 7.72c-.78.78-.78 2.05 0 2.83L4 21.41c.39.39.9.59 1.41.59.51 0 1.02-.2 1.41-.59l7.78-7.78 2.81-2.81c.8-.78.8-2.07 0-2.86zM5.41 20L4 18.59l7.72-7.72 1.47 1.35L5.41 20z\"/>\n",
              "  </svg>\n",
              "      </button>\n",
              "      \n",
              "  <style>\n",
              "    .colab-df-container {\n",
              "      display:flex;\n",
              "      flex-wrap:wrap;\n",
              "      gap: 12px;\n",
              "    }\n",
              "\n",
              "    .colab-df-convert {\n",
              "      background-color: #E8F0FE;\n",
              "      border: none;\n",
              "      border-radius: 50%;\n",
              "      cursor: pointer;\n",
              "      display: none;\n",
              "      fill: #1967D2;\n",
              "      height: 32px;\n",
              "      padding: 0 0 0 0;\n",
              "      width: 32px;\n",
              "    }\n",
              "\n",
              "    .colab-df-convert:hover {\n",
              "      background-color: #E2EBFA;\n",
              "      box-shadow: 0px 1px 2px rgba(60, 64, 67, 0.3), 0px 1px 3px 1px rgba(60, 64, 67, 0.15);\n",
              "      fill: #174EA6;\n",
              "    }\n",
              "\n",
              "    [theme=dark] .colab-df-convert {\n",
              "      background-color: #3B4455;\n",
              "      fill: #D2E3FC;\n",
              "    }\n",
              "\n",
              "    [theme=dark] .colab-df-convert:hover {\n",
              "      background-color: #434B5C;\n",
              "      box-shadow: 0px 1px 3px 1px rgba(0, 0, 0, 0.15);\n",
              "      filter: drop-shadow(0px 1px 2px rgba(0, 0, 0, 0.3));\n",
              "      fill: #FFFFFF;\n",
              "    }\n",
              "  </style>\n",
              "\n",
              "      <script>\n",
              "        const buttonEl =\n",
              "          document.querySelector('#df-4cb0f6b3-e5ca-4c74-98f5-5da8c535b81e button.colab-df-convert');\n",
              "        buttonEl.style.display =\n",
              "          google.colab.kernel.accessAllowed ? 'block' : 'none';\n",
              "\n",
              "        async function convertToInteractive(key) {\n",
              "          const element = document.querySelector('#df-4cb0f6b3-e5ca-4c74-98f5-5da8c535b81e');\n",
              "          const dataTable =\n",
              "            await google.colab.kernel.invokeFunction('convertToInteractive',\n",
              "                                                     [key], {});\n",
              "          if (!dataTable) return;\n",
              "\n",
              "          const docLinkHtml = 'Like what you see? Visit the ' +\n",
              "            '<a target=\"_blank\" href=https://colab.research.google.com/notebooks/data_table.ipynb>data table notebook</a>'\n",
              "            + ' to learn more about interactive tables.';\n",
              "          element.innerHTML = '';\n",
              "          dataTable['output_type'] = 'display_data';\n",
              "          await google.colab.output.renderOutput(dataTable, element);\n",
              "          const docLink = document.createElement('div');\n",
              "          docLink.innerHTML = docLinkHtml;\n",
              "          element.appendChild(docLink);\n",
              "        }\n",
              "      </script>\n",
              "    </div>\n",
              "  </div>\n",
              "  "
            ]
          },
          "metadata": {},
          "execution_count": 90
        }
      ]
    },
    {
      "cell_type": "markdown",
      "source": [
        "We see the best model is the last one by far, LSTM with temperature, pressure and datetime inputs and we try to predict pressure as well temperature. "
      ],
      "metadata": {
        "id": "D-Z7gz6Wipxt"
      }
    }
  ]
}